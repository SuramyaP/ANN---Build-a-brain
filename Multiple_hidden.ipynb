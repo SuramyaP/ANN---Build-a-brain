{
 "cells": [
  {
   "cell_type": "code",
   "execution_count": 1,
   "id": "ab7ed89f-00f8-4c90-9d05-444ebc513bfa",
   "metadata": {
    "tags": []
   },
   "outputs": [],
   "source": [
    "import numpy as np\n",
    "import pandas as pd\n",
    "import matplotlib.pyplot as plt\n",
    "import random"
   ]
  },
  {
   "cell_type": "code",
   "execution_count": 2,
   "id": "f7bc63fa-a8d6-44d2-990b-e2e4a724213d",
   "metadata": {},
   "outputs": [],
   "source": [
    "np.random.seed(100)"
   ]
  },
  {
   "cell_type": "code",
   "execution_count": 3,
   "id": "b98002a8-25f1-434c-a9f3-52ec8e2b9c33",
   "metadata": {},
   "outputs": [],
   "source": [
    "df = pd.read_csv('digit_data.csv')"
   ]
  },
  {
   "cell_type": "code",
   "execution_count": 4,
   "id": "4c6968c6-8a12-4232-91f8-9d9cd24db830",
   "metadata": {},
   "outputs": [
    {
     "data": {
      "text/html": [
       "<div>\n",
       "<style scoped>\n",
       "    .dataframe tbody tr th:only-of-type {\n",
       "        vertical-align: middle;\n",
       "    }\n",
       "\n",
       "    .dataframe tbody tr th {\n",
       "        vertical-align: top;\n",
       "    }\n",
       "\n",
       "    .dataframe thead th {\n",
       "        text-align: right;\n",
       "    }\n",
       "</style>\n",
       "<table border=\"1\" class=\"dataframe\">\n",
       "  <thead>\n",
       "    <tr style=\"text-align: right;\">\n",
       "      <th></th>\n",
       "      <th>label</th>\n",
       "      <th>pixel0</th>\n",
       "      <th>pixel1</th>\n",
       "      <th>pixel2</th>\n",
       "      <th>pixel3</th>\n",
       "      <th>pixel4</th>\n",
       "      <th>pixel5</th>\n",
       "      <th>pixel6</th>\n",
       "      <th>pixel7</th>\n",
       "      <th>pixel8</th>\n",
       "      <th>...</th>\n",
       "      <th>pixel774</th>\n",
       "      <th>pixel775</th>\n",
       "      <th>pixel776</th>\n",
       "      <th>pixel777</th>\n",
       "      <th>pixel778</th>\n",
       "      <th>pixel779</th>\n",
       "      <th>pixel780</th>\n",
       "      <th>pixel781</th>\n",
       "      <th>pixel782</th>\n",
       "      <th>pixel783</th>\n",
       "    </tr>\n",
       "  </thead>\n",
       "  <tbody>\n",
       "    <tr>\n",
       "      <th>0</th>\n",
       "      <td>1</td>\n",
       "      <td>0</td>\n",
       "      <td>0</td>\n",
       "      <td>0</td>\n",
       "      <td>0</td>\n",
       "      <td>0</td>\n",
       "      <td>0</td>\n",
       "      <td>0</td>\n",
       "      <td>0</td>\n",
       "      <td>0</td>\n",
       "      <td>...</td>\n",
       "      <td>0</td>\n",
       "      <td>0</td>\n",
       "      <td>0</td>\n",
       "      <td>0</td>\n",
       "      <td>0</td>\n",
       "      <td>0</td>\n",
       "      <td>0</td>\n",
       "      <td>0</td>\n",
       "      <td>0</td>\n",
       "      <td>0</td>\n",
       "    </tr>\n",
       "    <tr>\n",
       "      <th>1</th>\n",
       "      <td>0</td>\n",
       "      <td>0</td>\n",
       "      <td>0</td>\n",
       "      <td>0</td>\n",
       "      <td>0</td>\n",
       "      <td>0</td>\n",
       "      <td>0</td>\n",
       "      <td>0</td>\n",
       "      <td>0</td>\n",
       "      <td>0</td>\n",
       "      <td>...</td>\n",
       "      <td>0</td>\n",
       "      <td>0</td>\n",
       "      <td>0</td>\n",
       "      <td>0</td>\n",
       "      <td>0</td>\n",
       "      <td>0</td>\n",
       "      <td>0</td>\n",
       "      <td>0</td>\n",
       "      <td>0</td>\n",
       "      <td>0</td>\n",
       "    </tr>\n",
       "    <tr>\n",
       "      <th>2</th>\n",
       "      <td>1</td>\n",
       "      <td>0</td>\n",
       "      <td>0</td>\n",
       "      <td>0</td>\n",
       "      <td>0</td>\n",
       "      <td>0</td>\n",
       "      <td>0</td>\n",
       "      <td>0</td>\n",
       "      <td>0</td>\n",
       "      <td>0</td>\n",
       "      <td>...</td>\n",
       "      <td>0</td>\n",
       "      <td>0</td>\n",
       "      <td>0</td>\n",
       "      <td>0</td>\n",
       "      <td>0</td>\n",
       "      <td>0</td>\n",
       "      <td>0</td>\n",
       "      <td>0</td>\n",
       "      <td>0</td>\n",
       "      <td>0</td>\n",
       "    </tr>\n",
       "    <tr>\n",
       "      <th>3</th>\n",
       "      <td>4</td>\n",
       "      <td>0</td>\n",
       "      <td>0</td>\n",
       "      <td>0</td>\n",
       "      <td>0</td>\n",
       "      <td>0</td>\n",
       "      <td>0</td>\n",
       "      <td>0</td>\n",
       "      <td>0</td>\n",
       "      <td>0</td>\n",
       "      <td>...</td>\n",
       "      <td>0</td>\n",
       "      <td>0</td>\n",
       "      <td>0</td>\n",
       "      <td>0</td>\n",
       "      <td>0</td>\n",
       "      <td>0</td>\n",
       "      <td>0</td>\n",
       "      <td>0</td>\n",
       "      <td>0</td>\n",
       "      <td>0</td>\n",
       "    </tr>\n",
       "    <tr>\n",
       "      <th>4</th>\n",
       "      <td>0</td>\n",
       "      <td>0</td>\n",
       "      <td>0</td>\n",
       "      <td>0</td>\n",
       "      <td>0</td>\n",
       "      <td>0</td>\n",
       "      <td>0</td>\n",
       "      <td>0</td>\n",
       "      <td>0</td>\n",
       "      <td>0</td>\n",
       "      <td>...</td>\n",
       "      <td>0</td>\n",
       "      <td>0</td>\n",
       "      <td>0</td>\n",
       "      <td>0</td>\n",
       "      <td>0</td>\n",
       "      <td>0</td>\n",
       "      <td>0</td>\n",
       "      <td>0</td>\n",
       "      <td>0</td>\n",
       "      <td>0</td>\n",
       "    </tr>\n",
       "  </tbody>\n",
       "</table>\n",
       "<p>5 rows × 785 columns</p>\n",
       "</div>"
      ],
      "text/plain": [
       "   label  pixel0  pixel1  pixel2  pixel3  pixel4  pixel5  pixel6  pixel7  \\\n",
       "0      1       0       0       0       0       0       0       0       0   \n",
       "1      0       0       0       0       0       0       0       0       0   \n",
       "2      1       0       0       0       0       0       0       0       0   \n",
       "3      4       0       0       0       0       0       0       0       0   \n",
       "4      0       0       0       0       0       0       0       0       0   \n",
       "\n",
       "   pixel8  ...  pixel774  pixel775  pixel776  pixel777  pixel778  pixel779  \\\n",
       "0       0  ...         0         0         0         0         0         0   \n",
       "1       0  ...         0         0         0         0         0         0   \n",
       "2       0  ...         0         0         0         0         0         0   \n",
       "3       0  ...         0         0         0         0         0         0   \n",
       "4       0  ...         0         0         0         0         0         0   \n",
       "\n",
       "   pixel780  pixel781  pixel782  pixel783  \n",
       "0         0         0         0         0  \n",
       "1         0         0         0         0  \n",
       "2         0         0         0         0  \n",
       "3         0         0         0         0  \n",
       "4         0         0         0         0  \n",
       "\n",
       "[5 rows x 785 columns]"
      ]
     },
     "execution_count": 4,
     "metadata": {},
     "output_type": "execute_result"
    }
   ],
   "source": [
    "df.head(5)"
   ]
  },
  {
   "cell_type": "code",
   "execution_count": 5,
   "id": "626af56f-e8e6-4db7-8281-5ed54c4bab09",
   "metadata": {},
   "outputs": [],
   "source": [
    "data = np.array(df)\n",
    "m, n = data.shape\n",
    "np.random.shuffle(data) # shuffle before splitting into dev and training sets\n",
    "\n",
    "data_dev = data[0:1000].T\n",
    "Y_dev = data_dev[0]\n",
    "X_dev = data_dev[1:n]\n",
    "X_dev = X_dev / 255.\n",
    "\n",
    "data_train = data[1000:m].T\n",
    "Y_train = data_train[0]\n",
    "X_train = data_train[1:n]\n",
    "X_train = X_train / 255.\n",
    "_,m_train = X_train.shape"
   ]
  },
  {
   "cell_type": "code",
   "execution_count": 6,
   "id": "4db6d246-8190-465a-bf6e-f4fc03307d60",
   "metadata": {},
   "outputs": [
    {
     "data": {
      "text/plain": [
       "array([5, 8, 6, ..., 7, 9, 2], dtype=int64)"
      ]
     },
     "execution_count": 6,
     "metadata": {},
     "output_type": "execute_result"
    }
   ],
   "source": [
    "Y_train"
   ]
  },
  {
   "cell_type": "code",
   "execution_count": 7,
   "id": "19844d34-666b-4a51-b82c-10e6dde529cb",
   "metadata": {},
   "outputs": [],
   "source": [
    "def init_params():\n",
    "    W1 = np.random.rand(10, 784) - 0.5\n",
    "    b1 = np.random.rand(10, 1) - 0.5\n",
    "    \n",
    "    \n",
    "    W2 = np.random.rand(15, 10) - 0.5\n",
    "    b2 = np.random.rand(15, 1) - 0.5\n",
    "    \n",
    "    W3 = np.random.rand(12,15) - 0.5\n",
    "    b3 = np.random.rand(12, 1) - 0.5\n",
    "    \n",
    "    W4 = np.random.rand(10,12) - 0.5\n",
    "    b4 = np.random.rand(10, 1) - 0.5\n",
    "    \n",
    "    return W1, b1, W2, b2, W3, b3, W4, b4\n"
   ]
  },
  {
   "cell_type": "code",
   "execution_count": 8,
   "id": "42e11aaa-2bd5-4120-af67-915ba06d3259",
   "metadata": {},
   "outputs": [],
   "source": [
    "def ReLU(Z):\n",
    "    return np.maximum(Z, 0)\n"
   ]
  },
  {
   "cell_type": "code",
   "execution_count": 9,
   "id": "14cf2b33-6c89-4b09-a765-e78f37f3c84f",
   "metadata": {},
   "outputs": [],
   "source": [
    "def softmax(Z):\n",
    "    A = np.exp(Z) / sum(np.exp(Z))\n",
    "    return A"
   ]
  },
  {
   "cell_type": "code",
   "execution_count": 10,
   "id": "7630d0c5-492d-4db7-b4af-c15d4e74b371",
   "metadata": {},
   "outputs": [],
   "source": [
    "def ReLU_deriv(Z):\n",
    "    return Z > 0\n"
   ]
  },
  {
   "cell_type": "code",
   "execution_count": 11,
   "id": "1f3a5e71-71e5-4278-a80f-1a532da0d9fc",
   "metadata": {},
   "outputs": [],
   "source": [
    "def sigmoid(x):\n",
    "  \n",
    "    return 1 / (1 + np.exp(-x))"
   ]
  },
  {
   "cell_type": "code",
   "execution_count": 12,
   "id": "799ac04f-29e9-4a6b-8234-7d2d1dffbdb4",
   "metadata": {},
   "outputs": [],
   "source": [
    "def tanh(x):\n",
    "   \n",
    "    return np.tanh(x)"
   ]
  },
  {
   "cell_type": "code",
   "execution_count": 13,
   "id": "993e64bd-2c96-4b33-955c-09dc5fd52bff",
   "metadata": {},
   "outputs": [],
   "source": [
    "def sigmoid_derivative(x):\n",
    "    return sigmoid(x) * (1 - sigmoid(x))"
   ]
  },
  {
   "cell_type": "code",
   "execution_count": 14,
   "id": "70e6ca82-cf37-4f51-989a-3b61757c3bc8",
   "metadata": {},
   "outputs": [],
   "source": [
    "def tanh_derivative(x):\n",
    "    return 1 - tanh(x)**2"
   ]
  },
  {
   "cell_type": "code",
   "execution_count": 15,
   "id": "447ad4ab-2935-4a84-bd51-dc954d854510",
   "metadata": {},
   "outputs": [],
   "source": [
    "def forward_prop(W1, b1, W2, b2,W3,b3,W4,b4, X):\n",
    "    Z1 = W1.dot(X) + b1\n",
    "    A1 = ReLU(Z1)\n",
    "    \n",
    "    Z2 = W2.dot(A1) + b2\n",
    "    A2 = sigmoid(Z2)\n",
    "    \n",
    "    Z3 = W3.dot(A2) + b3\n",
    "    A3 = tanh(Z3)\n",
    "    \n",
    "    Z4 = W4.dot(A3) + b4\n",
    "    A4 = softmax(Z4)\n",
    "    return Z1, A1, Z2, A2, Z3,A3,Z4,A4"
   ]
  },
  {
   "cell_type": "code",
   "execution_count": 16,
   "id": "3f5f3cdc-5c05-48a7-93db-77394b9db621",
   "metadata": {},
   "outputs": [],
   "source": [
    "def one_hot(Y):\n",
    "    one_hot_Y = np.zeros((Y.size, Y.max() + 1))\n",
    "    one_hot_Y[np.arange(Y.size), Y] = 1\n",
    "    one_hot_Y = one_hot_Y.T\n",
    "    return one_hot_Y\n"
   ]
  },
  {
   "cell_type": "code",
   "execution_count": 17,
   "id": "162a2ed2-f2c4-471c-bd4d-e6c4aed92afb",
   "metadata": {},
   "outputs": [],
   "source": [
    "def backward_prop(Z1, A1, Z2, A2, Z3, A3, Z4,A4, W1, W2,W3,W4, X, Y):\n",
    "    one_hot_Y = one_hot(Y)\n",
    "    \n",
    "    dZ4 = A4 - one_hot_Y\n",
    "    dW4 = 1 / m * dZ4.dot(A3.T)\n",
    "    db4 = 1 / m * np.sum(dZ4)\n",
    "    \n",
    "    dZ3 = W4.T.dot(dZ4) * tanh_derivative(Z3)\n",
    "    dW3 = 1 / m * dZ3.dot(A2.T)\n",
    "    db3 = 1 / m * np.sum(dZ3)\n",
    "    \n",
    "    dZ2 = W3.T.dot(dZ3) * sigmoid_derivative(Z2)\n",
    "    dW2 = 1 / m * dZ2.dot(A1.T)\n",
    "    db2 = 1 / m * np.sum(dZ2)\n",
    "    \n",
    "    dZ1 = W2.T.dot(dZ2) * ReLU_deriv(Z1)\n",
    "    dW1 = 1 / m * dZ1.dot(X.T)\n",
    "    db1 = 1 / m * np.sum(dZ1)\n",
    "    \n",
    "    \n",
    "    \n",
    "    \n",
    "    return dW1, db1, dW2, db2, dW3, db3, dW4,db4"
   ]
  },
  {
   "cell_type": "code",
   "execution_count": 18,
   "id": "545f4083-8cb3-4477-a920-794bd379045f",
   "metadata": {},
   "outputs": [],
   "source": [
    "\n",
    "def update_params(W1, b1, W2, b2,W3,b3,W4,b4, dW1, db1, dW2, db2,dW3,db3,dW4,db4, alpha):\n",
    "    W1 = W1 - alpha * dW1\n",
    "    b1 = b1 - alpha * db1    \n",
    "    \n",
    "    W2 = W2 - alpha * dW2  \n",
    "    b2 = b2 - alpha * db2 \n",
    "    \n",
    "    W3 = W3 - alpha * dW3\n",
    "    b3 = b3 - alpha * db3    \n",
    "    \n",
    "    W4 = W4 - alpha * dW4  \n",
    "    b4 = b4 - alpha * db4 \n",
    "    \n",
    "    return W1, b1, W2, b2, W3, b3, W4, b4"
   ]
  },
  {
   "cell_type": "code",
   "execution_count": 19,
   "id": "540d24e3-efb9-42b2-8d2a-06e1d2d0e665",
   "metadata": {},
   "outputs": [],
   "source": [
    "def get_predictions(A2):\n",
    "    return np.argmax(A2, 0)\n"
   ]
  },
  {
   "cell_type": "code",
   "execution_count": 20,
   "id": "556799e6-9426-4210-b00f-838ad848a683",
   "metadata": {},
   "outputs": [],
   "source": [
    "def get_accuracy(predictions, Y):\n",
    "    print(predictions, Y)\n",
    "    return np.sum(predictions == Y) / Y.size"
   ]
  },
  {
   "cell_type": "code",
   "execution_count": 21,
   "id": "f5560f40-3a5b-44a7-b839-aa1ae4412a50",
   "metadata": {},
   "outputs": [],
   "source": [
    "\n",
    "def gradient_descent(X, Y, alpha, iterations):\n",
    "    W1, b1, W2, b2, W3, b3, W4, b4 = init_params()\n",
    "    accuracy_scores = []\n",
    "    for i in range(iterations):\n",
    "        Z1, A1, Z2, A2, Z3, A3, Z4, A4 = forward_prop(W1, b1, W2, b2,W3,b3,W4,b4, X)\n",
    "        dW1, db1, dW2, db2, dW3, db3, dW4,db4 = backward_prop(Z1, A1, Z2, A2, Z3, A3, Z4,A4, W1, W2,W3,W4, X, Y)\n",
    "        W1, b1, W2, b2, W3, b3, W4, b4 = update_params(W1, b1, W2, b2,W3,b3,W4,b4, dW1, db1, dW2, db2,dW3,db3,dW4,db4, alpha)\n",
    "        if i % 10 == 0:\n",
    "            print(\"Iteration: \", i)\n",
    "            predictions = get_predictions(A4)\n",
    "            accuracy = get_accuracy(predictions, Y)\n",
    "            print(accuracy)\n",
    "            accuracy_scores.append((i, accuracy))\n",
    "    \n",
    "    # Convert accuracy_scores to separate lists for plotting\n",
    "    iterations, accuracies = zip(*accuracy_scores)\n",
    "    \n",
    "    # Plotting accuracy vs iterations\n",
    "    plt.plot(iterations, accuracies)\n",
    "    plt.xlabel('Iterations')\n",
    "    plt.ylabel('Accuracy')\n",
    "    plt.title('Accuracy vs Iterations')\n",
    "    plt.show()\n",
    "      \n",
    "    return W1, b1, W2, b2, W3,b3,W4,b4"
   ]
  },
  {
   "cell_type": "code",
   "execution_count": 22,
   "id": "c0b75aab-98fb-4b60-a35e-fc94a4b2be71",
   "metadata": {},
   "outputs": [
    {
     "name": "stdout",
     "output_type": "stream",
     "text": [
      "Iteration:  0\n",
      "[7 1 7 ... 0 1 7] [5 8 6 ... 7 9 2]\n",
      "0.03504878048780488\n",
      "Iteration:  10\n",
      "[7 1 1 ... 4 1 7] [5 8 6 ... 7 9 2]\n",
      "0.08029268292682927\n",
      "Iteration:  20\n",
      "[7 1 1 ... 4 7 7] [5 8 6 ... 7 9 2]\n",
      "0.12024390243902439\n",
      "Iteration:  30\n",
      "[7 1 1 ... 4 7 7] [5 8 6 ... 7 9 2]\n",
      "0.162\n",
      "Iteration:  40\n",
      "[7 1 1 ... 1 7 7] [5 8 6 ... 7 9 2]\n",
      "0.21426829268292683\n",
      "Iteration:  50\n",
      "[7 1 1 ... 1 7 7] [5 8 6 ... 7 9 2]\n",
      "0.25346341463414634\n",
      "Iteration:  60\n",
      "[7 1 1 ... 1 7 6] [5 8 6 ... 7 9 2]\n",
      "0.2776829268292683\n",
      "Iteration:  70\n",
      "[7 3 1 ... 1 7 6] [5 8 6 ... 7 9 2]\n",
      "0.29617073170731706\n",
      "Iteration:  80\n",
      "[6 3 1 ... 1 7 6] [5 8 6 ... 7 9 2]\n",
      "0.3106341463414634\n",
      "Iteration:  90\n",
      "[6 3 1 ... 1 0 6] [5 8 6 ... 7 9 2]\n",
      "0.3231707317073171\n",
      "Iteration:  100\n",
      "[6 3 1 ... 1 0 6] [5 8 6 ... 7 9 2]\n",
      "0.33678048780487807\n",
      "Iteration:  110\n",
      "[6 3 1 ... 1 0 6] [5 8 6 ... 7 9 2]\n",
      "0.3514390243902439\n",
      "Iteration:  120\n",
      "[6 7 1 ... 1 0 6] [5 8 6 ... 7 9 2]\n",
      "0.3671463414634146\n",
      "Iteration:  130\n",
      "[6 7 2 ... 1 0 2] [5 8 6 ... 7 9 2]\n",
      "0.382\n",
      "Iteration:  140\n",
      "[6 7 2 ... 7 7 2] [5 8 6 ... 7 9 2]\n",
      "0.3971707317073171\n",
      "Iteration:  150\n",
      "[6 7 2 ... 7 9 2] [5 8 6 ... 7 9 2]\n",
      "0.4130243902439024\n",
      "Iteration:  160\n",
      "[6 7 2 ... 7 9 2] [5 8 6 ... 7 9 2]\n",
      "0.4282439024390244\n",
      "Iteration:  170\n",
      "[6 3 2 ... 7 9 2] [5 8 6 ... 7 9 2]\n",
      "0.44334146341463415\n",
      "Iteration:  180\n",
      "[6 3 2 ... 7 9 2] [5 8 6 ... 7 9 2]\n",
      "0.4576829268292683\n",
      "Iteration:  190\n",
      "[6 3 2 ... 7 9 2] [5 8 6 ... 7 9 2]\n",
      "0.4693170731707317\n",
      "Iteration:  200\n",
      "[6 3 2 ... 7 9 2] [5 8 6 ... 7 9 2]\n",
      "0.48065853658536584\n",
      "Iteration:  210\n",
      "[6 3 2 ... 7 9 2] [5 8 6 ... 7 9 2]\n",
      "0.4899268292682927\n",
      "Iteration:  220\n",
      "[6 3 6 ... 7 9 2] [5 8 6 ... 7 9 2]\n",
      "0.49926829268292683\n",
      "Iteration:  230\n",
      "[6 3 6 ... 7 7 2] [5 8 6 ... 7 9 2]\n",
      "0.5076341463414634\n",
      "Iteration:  240\n",
      "[3 3 6 ... 7 7 2] [5 8 6 ... 7 9 2]\n",
      "0.5153170731707317\n",
      "Iteration:  250\n",
      "[3 3 6 ... 7 7 2] [5 8 6 ... 7 9 2]\n",
      "0.5233414634146342\n",
      "Iteration:  260\n",
      "[3 3 6 ... 7 7 2] [5 8 6 ... 7 9 2]\n",
      "0.530390243902439\n",
      "Iteration:  270\n",
      "[3 3 6 ... 7 7 2] [5 8 6 ... 7 9 2]\n",
      "0.5377560975609756\n",
      "Iteration:  280\n",
      "[3 3 6 ... 7 7 2] [5 8 6 ... 7 9 2]\n",
      "0.5454390243902439\n",
      "Iteration:  290\n",
      "[3 3 6 ... 7 7 2] [5 8 6 ... 7 9 2]\n",
      "0.5528780487804879\n",
      "Iteration:  300\n",
      "[3 3 6 ... 7 7 2] [5 8 6 ... 7 9 2]\n",
      "0.5598048780487805\n",
      "Iteration:  310\n",
      "[3 3 6 ... 7 7 2] [5 8 6 ... 7 9 2]\n",
      "0.5665853658536585\n",
      "Iteration:  320\n",
      "[3 3 6 ... 7 7 2] [5 8 6 ... 7 9 2]\n",
      "0.573170731707317\n",
      "Iteration:  330\n",
      "[3 3 6 ... 7 7 2] [5 8 6 ... 7 9 2]\n",
      "0.5791951219512195\n",
      "Iteration:  340\n",
      "[3 3 6 ... 7 7 2] [5 8 6 ... 7 9 2]\n",
      "0.5865121951219512\n",
      "Iteration:  350\n",
      "[3 3 6 ... 7 7 2] [5 8 6 ... 7 9 2]\n",
      "0.593780487804878\n",
      "Iteration:  360\n",
      "[3 3 6 ... 7 4 2] [5 8 6 ... 7 9 2]\n",
      "0.6000487804878049\n",
      "Iteration:  370\n",
      "[3 3 6 ... 7 4 2] [5 8 6 ... 7 9 2]\n",
      "0.6065609756097561\n",
      "Iteration:  380\n",
      "[3 3 6 ... 7 4 2] [5 8 6 ... 7 9 2]\n",
      "0.6137073170731707\n",
      "Iteration:  390\n",
      "[3 3 6 ... 7 4 2] [5 8 6 ... 7 9 2]\n",
      "0.6199756097560976\n",
      "Iteration:  400\n",
      "[3 3 6 ... 7 4 2] [5 8 6 ... 7 9 2]\n",
      "0.625390243902439\n",
      "Iteration:  410\n",
      "[3 3 6 ... 7 4 2] [5 8 6 ... 7 9 2]\n",
      "0.6308536585365854\n",
      "Iteration:  420\n",
      "[3 3 6 ... 7 4 2] [5 8 6 ... 7 9 2]\n",
      "0.6374146341463415\n",
      "Iteration:  430\n",
      "[3 3 6 ... 7 4 2] [5 8 6 ... 7 9 2]\n",
      "0.6437317073170732\n",
      "Iteration:  440\n",
      "[3 3 6 ... 7 4 2] [5 8 6 ... 7 9 2]\n",
      "0.6487804878048781\n",
      "Iteration:  450\n",
      "[3 3 6 ... 7 4 2] [5 8 6 ... 7 9 2]\n",
      "0.6534634146341464\n",
      "Iteration:  460\n",
      "[3 3 6 ... 7 4 2] [5 8 6 ... 7 9 2]\n",
      "0.6592682926829269\n",
      "Iteration:  470\n",
      "[3 3 6 ... 7 4 2] [5 8 6 ... 7 9 2]\n",
      "0.664829268292683\n",
      "Iteration:  480\n",
      "[3 3 6 ... 7 4 2] [5 8 6 ... 7 9 2]\n",
      "0.6693414634146342\n",
      "Iteration:  490\n",
      "[3 3 6 ... 7 4 2] [5 8 6 ... 7 9 2]\n",
      "0.6735365853658537\n"
     ]
    },
    {
     "data": {
      "image/png": "[encoded data removed]",
      "text/plain": [
       "<Figure size 640x480 with 1 Axes>"
      ]
     },
     "metadata": {},
     "output_type": "display_data"
    }
   ],
   "source": [
    "W1, b1, W2, b2, W3,b3,W4,b4 = gradient_descent(X_train, Y_train, 0.10, 500)"
   ]
  },
  {
   "cell_type": "code",
   "execution_count": 23,
   "id": "ccd6cbff-370e-48b8-8fd5-10da6ff0d621",
   "metadata": {},
   "outputs": [],
   "source": [
    "def make_predictions(X, W1, b1, W2, b2,W3,b3,W4,b4):\n",
    "    Z1, A1, Z2, A2, Z3,A3,Z4,A4 = forward_prop(W1, b1, W2, b2,W3,b3,W4,b4, X)\n",
    "    predictions = get_predictions(A4)\n",
    "    return predictions\n",
    "\n",
    "def test_prediction(index, W1, b1, W2, b2,W3,b3,W4,b4):\n",
    "    current_image = X_train[:, index, None]\n",
    "    prediction = make_predictions(X_train[:, index, None], W1, b1, W2, b2,W3,b3,W4,b4)\n",
    "    label = Y_train[index]\n",
    "    print(\"Prediction: \", prediction)\n",
    "    print(\"Label: \", label)\n",
    "    \n",
    "    current_image = current_image.reshape((28, 28)) * 255\n",
    "    plt.gray()\n",
    "    plt.imshow(current_image, interpolation='nearest')\n",
    "    plt.show()"
   ]
  },
  {
   "cell_type": "code",
   "execution_count": 24,
   "id": "ff4abf4e-72c9-4d1d-811e-52321bd937a2",
   "metadata": {},
   "outputs": [
    {
     "name": "stdout",
     "output_type": "stream",
     "text": [
      "Prediction:  [3]\n",
      "Label:  5\n"
     ]
    },
    {
     "data": {
      "image/png": "[encoded data removed]",
      "text/plain": [
       "<Figure size 640x480 with 1 Axes>"
      ]
     },
     "metadata": {},
     "output_type": "display_data"
    },
    {
     "name": "stdout",
     "output_type": "stream",
     "text": [
      "Prediction:  [3]\n",
      "Label:  8\n"
     ]
    },
    {
     "data": {
      "image/png": "[encoded data removed]",
      "text/plain": [
       "<Figure size 640x480 with 1 Axes>"
      ]
     },
     "metadata": {},
     "output_type": "display_data"
    },
    {
     "name": "stdout",
     "output_type": "stream",
     "text": [
      "Prediction:  [6]\n",
      "Label:  6\n"
     ]
    },
    {
     "data": {
      "image/png": "[encoded data removed]",
      "text/plain": [
       "<Figure size 640x480 with 1 Axes>"
      ]
     },
     "metadata": {},
     "output_type": "display_data"
    },
    {
     "name": "stdout",
     "output_type": "stream",
     "text": [
      "Prediction:  [1]\n",
      "Label:  1\n"
     ]
    },
    {
     "data": {
      "image/png": "[encoded data removed]",
      "text/plain": [
       "<Figure size 640x480 with 1 Axes>"
      ]
     },
     "metadata": {},
     "output_type": "display_data"
    }
   ],
   "source": [
    "test_prediction(0, W1, b1, W2, b2,W3,b3,W4,b4)\n",
    "test_prediction(1, W1, b1, W2, b2,W3,b3,W4,b4)\n",
    "test_prediction(2, W1, b1, W2, b2,W3,b3,W4,b4)\n",
    "test_prediction(3, W1, b1, W2, b2,W3,b3,W4,b4)"
   ]
  },
  {
   "cell_type": "code",
   "execution_count": 25,
   "id": "9f167827-11fc-47aa-8a2b-4230a67d880f",
   "metadata": {
    "tags": []
   },
   "outputs": [
    {
     "name": "stdout",
     "output_type": "stream",
     "text": [
      "[5 0 2 7 7 9 4 5 5 3 3 9 2 7 1 7 4 7 4 8 1 3 9 1 3 9 5 9 8 4 9 0 7 7 9 4 0\n",
      " 1 5 0 3 5 7 3 4 4 0 4 9 2 6 4 3 9 4 1 5 1 9 4 5 2 1 1 8 9 9 6 0 6 6 0 8 8\n",
      " 7 9 2 9 4 0 8 9 7 5 8 0 6 6 1 6 0 3 9 7 6 6 0 5 9 1 5 3 3 2 8 7 7 5 3 0 5\n",
      " 1 3 5 0 3 1 7 6 0 4 5 4 9 1 8 9 6 1 9 9 7 0 3 8 9 0 3 3 3 2 0 5 2 9 0 4 6\n",
      " 9 4 1 1 9 6 9 1 8 2 7 1 1 9 4 5 1 4 4 6 7 4 7 4 3 3 0 6 7 5 4 9 6 0 4 7 2\n",
      " 0 4 0 6 8 4 3 5 6 8 6 8 7 7 1 1 4 1 6 2 7 9 2 1 2 7 8 3 0 9 3 9 2 7 7 8 5\n",
      " 0 7 3 7 2 1 1 1 0 1 9 7 4 2 3 8 3 0 6 2 2 3 3 1 1 3 1 2 0 3 6 2 3 4 6 6 8\n",
      " 5 8 3 7 3 1 0 1 3 4 1 8 7 5 3 7 0 2 2 3 3 7 2 1 4 8 8 6 7 2 4 1 6 5 0 4 7\n",
      " 2 1 7 3 4 6 9 6 0 1 6 7 0 6 1 2 2 4 6 9 0 1 6 0 1 3 9 1 4 1 3 4 5 9 7 4 5\n",
      " 2 7 2 3 0 1 1 2 0 4 1 8 7 1 1 9 8 2 0 1 1 9 9 1 5 0 7 0 4 0 2 8 3 4 5 0 4\n",
      " 3 3 3 5 0 5 7 3 3 8 6 3 0 3 8 8 9 4 9 3 8 0 5 8 9 7 6 7 7 2 6 6 6 2 7 8 3\n",
      " 6 3 0 6 9 3 2 0 9 9 4 9 7 1 8 6 6 0 1 0 2 0 6 1 5 1 0 7 2 3 2 2 7 4 6 3 7\n",
      " 5 7 8 7 5 7 9 7 2 1 0 4 8 9 3 2 5 1 0 3 7 8 9 4 7 6 3 6 2 3 4 0 6 1 7 9 6\n",
      " 9 5 4 0 6 2 1 9 1 6 0 1 5 9 9 5 3 5 3 7 8 5 3 0 7 8 5 9 7 6 8 7 3 0 2 0 9\n",
      " 9 1 6 6 4 3 2 7 5 3 9 8 6 5 2 4 6 7 1 9 9 2 1 7 9 3 3 7 9 6 8 7 0 9 1 3 2\n",
      " 5 2 9 7 6 7 6 7 3 8 2 3 4 6 1 8 3 3 0 0 0 3 1 1 3 2 5 6 7 7 6 4 6 9 1 9 7\n",
      " 6 7 1 8 7 6 9 2 5 3 3 1 1 7 9 7 0 3 4 7 0 9 4 7 9 1 1 6 2 8 5 6 9 1 0 6 4\n",
      " 7 1 5 0 3 1 0 8 8 9 4 1 3 2 8 0 7 9 3 1 2 6 7 4 4 3 1 8 3 5 9 4 9 7 0 9 8\n",
      " 8 9 5 8 7 6 9 3 1 8 5 7 8 0 5 1 1 5 7 9 2 2 2 3 5 8 0 3 0 2 1 7 1 0 2 0 8\n",
      " 1 7 1 4 4 9 2 0 9 0 1 5 8 2 8 6 7 4 0 7 7 2 2 4 7 8 1 6 4 3 0 7 3 1 7 6 7\n",
      " 2 5 6 4 1 1 8 3 5 2 3 8 1 1 7 9 0 4 7 3 3 6 3 3 4 0 3 3 3 8 6 1 9 8 8 4 4\n",
      " 5 8 2 4 3 7 7 6 2 3 2 2 2 0 7 6 3 6 1 1 0 6 6 8 7 3 2 1 1 6 2 3 4 9 8 4 9\n",
      " 0 3 7 2 6 8 2 8 5 2 2 8 8 9 4 5 6 9 5 0 2 0 1 9 7 6 6 0 1 0 7 0 7 5 6 7 7\n",
      " 7 8 3 7 7 7 1 2 0 9 3 3 3 1 0 3 5 2 0 3 3 7 7 4 4 3 2 8 3 6 2 6 2 9 8 6 4\n",
      " 4 4 6 2 2 4 0 6 6 2 7 9 3 5 3 9 3 9 5 5 1 9 0 9 0 7 7 1 0 4 9 1 6 9 9 1 4\n",
      " 7 7 6 3 5 2 1 0 1 1 0 6 9 6 0 3 7 0 2 2 1 3 6 1 0 5 7 2 3 4 1 1 3 6 9 5 1\n",
      " 8 0 6 6 8 4 7 7 1 3 0 4 4 9 1 9 7 9 5 2 3 0 3 7 6 3 6 7 0 2 7 9 0 3 5 6 8\n",
      " 7] [5 0 2 4 7 9 4 3 5 3 3 9 6 7 1 7 9 9 4 5 1 3 9 1 3 9 5 8 3 4 9 0 7 4 5 4 0\n",
      " 1 5 0 5 5 7 3 9 4 0 4 9 2 6 4 3 4 9 1 8 1 9 9 5 2 1 1 8 9 7 6 0 6 4 0 8 8\n",
      " 7 5 2 9 4 0 4 4 9 3 5 0 6 6 1 6 0 5 9 7 6 6 0 5 9 1 5 3 3 2 8 7 9 8 6 0 5\n",
      " 7 8 5 0 3 1 9 7 0 9 5 9 7 1 8 9 6 5 9 7 7 0 3 8 5 9 8 8 8 3 8 5 2 9 0 9 6\n",
      " 7 9 1 7 9 0 9 7 8 2 7 5 1 9 9 5 1 9 4 6 4 9 7 4 3 5 0 6 5 3 9 9 6 0 9 3 7\n",
      " 0 9 0 6 5 0 8 3 2 8 6 8 4 4 1 2 4 1 6 6 7 4 6 1 2 7 2 3 6 9 8 4 2 7 7 3 5\n",
      " 0 9 6 4 2 1 1 1 0 1 9 7 4 8 3 8 3 0 5 2 2 8 8 1 1 3 1 2 0 8 6 2 5 4 6 6 3\n",
      " 5 8 3 1 8 1 0 1 3 4 1 3 7 0 5 7 0 2 2 3 3 7 2 7 9 8 8 6 7 2 4 1 2 5 0 4 7\n",
      " 2 1 7 5 4 6 5 6 0 4 6 4 0 5 1 2 2 5 6 9 0 1 5 0 1 5 9 8 4 1 8 5 5 9 9 9 5\n",
      " 2 7 8 3 0 1 1 2 0 4 2 8 7 1 7 9 8 2 0 1 8 7 9 1 3 0 7 0 4 0 2 5 3 4 5 0 9\n",
      " 5 5 8 3 0 5 7 2 3 3 6 5 0 3 8 3 7 4 9 5 3 0 5 8 9 7 6 7 7 2 6 6 6 6 7 0 3\n",
      " 6 8 6 5 9 3 2 0 9 9 4 9 7 1 3 0 6 0 1 0 2 0 0 1 5 1 0 9 2 3 2 2 7 2 6 3 1\n",
      " 5 7 8 9 5 9 9 5 2 1 0 4 5 9 5 2 0 1 0 3 7 9 9 9 9 6 3 6 2 5 5 0 6 1 7 4 6\n",
      " 7 5 2 0 4 2 1 4 1 6 0 1 5 9 5 5 5 3 8 7 3 5 5 0 8 8 3 9 9 0 8 7 8 0 2 0 8\n",
      " 7 1 6 6 4 3 2 4 5 3 4 8 6 5 2 4 6 7 1 9 4 0 1 7 9 8 8 7 4 3 8 7 0 9 1 8 3\n",
      " 3 2 9 7 3 4 6 4 8 8 0 3 4 6 4 8 8 3 0 0 0 3 1 1 8 2 3 6 7 7 2 4 6 9 1 4 7\n",
      " 6 7 1 8 7 2 4 2 5 5 3 1 7 7 5 7 0 8 4 9 0 9 4 7 9 3 1 6 2 4 9 6 7 1 0 6 4\n",
      " 7 1 3 0 5 1 4 8 8 4 4 1 8 2 5 0 9 4 5 1 1 2 9 4 4 3 1 8 8 0 9 9 4 7 0 9 8\n",
      " 8 4 3 3 7 6 9 3 1 3 3 7 9 0 5 1 1 9 7 9 2 8 2 8 3 8 0 3 0 2 1 7 6 0 2 0 4\n",
      " 9 7 1 7 9 4 2 0 7 0 1 5 1 2 8 6 7 0 0 7 8 2 2 4 7 8 1 6 9 5 0 7 3 1 7 6 9\n",
      " 2 1 6 7 1 1 7 8 5 8 8 8 1 1 7 9 0 4 7 3 5 6 8 5 9 0 3 3 3 8 0 1 0 3 8 9 9\n",
      " 5 8 2 4 5 7 4 5 2 3 2 2 2 5 4 6 3 6 1 5 0 2 6 8 8 8 6 1 1 6 2 8 4 9 7 4 4\n",
      " 0 3 7 2 8 3 2 8 5 6 2 5 1 9 4 3 6 7 5 6 2 0 1 5 7 6 6 4 1 0 7 0 9 5 6 7 4\n",
      " 7 5 5 7 7 7 1 2 0 9 3 5 3 1 0 8 5 2 0 3 5 4 7 4 4 5 2 8 8 6 2 2 7 9 8 6 4\n",
      " 4 9 6 2 8 4 0 6 6 2 2 5 8 3 8 9 3 9 3 5 1 9 0 4 0 7 7 7 0 4 9 1 6 9 9 1 7\n",
      " 4 7 6 3 3 2 1 0 7 7 6 6 4 6 0 3 7 0 6 2 4 8 6 1 0 3 7 8 3 4 1 1 3 6 9 5 3\n",
      " 8 0 6 6 3 4 7 7 7 3 0 4 4 9 1 4 2 9 5 6 3 0 3 4 8 3 6 7 0 2 7 9 5 3 5 6 3\n",
      " 7]\n"
     ]
    },
    {
     "data": {
      "text/plain": [
       "0.677"
      ]
     },
     "execution_count": 25,
     "metadata": {},
     "output_type": "execute_result"
    }
   ],
   "source": [
    "dev_predictions = make_predictions(X_dev, W1, b1, W2, b2, W3, b3, W4, b4)\n",
    "get_accuracy(dev_predictions, Y_dev)"
   ]
  }
 ],
 "metadata": {
  "kernelspec": {
   "display_name": "Python 3 (ipykernel)",
   "language": "python",
   "name": "python3"
  },
  "language_info": {
   "codemirror_mode": {
    "name": "ipython",
    "version": 3
   },
   "file_extension": ".py",
   "mimetype": "text/x-python",
   "name": "python",
   "nbconvert_exporter": "python",
   "pygments_lexer": "ipython3",
   "version": "3.10.9"
  }
 },
 "nbformat": 4,
 "nbformat_minor": 5
}
