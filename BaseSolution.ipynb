{
 "cells": [
  {
   "cell_type": "code",
   "execution_count": 1,
   "id": "3413fcf2-7032-4db7-96b8-b3a45106a720",
   "metadata": {
    "tags": []
   },
   "outputs": [],
   "source": [
    "import pandas as pd\n",
    "import numpy as np\n",
    "import matplotlib.pyplot as plt\n",
    "from sklearn.model_selection import train_test_split\n",
    "from sklearn.metrics import confusion_matrix , classification_report\n",
    "import random"
   ]
  },
  {
   "cell_type": "code",
   "execution_count": 2,
   "id": "620d58b0-c023-419b-8a23-f9942fb5f1e4",
   "metadata": {},
   "outputs": [],
   "source": [
    "np.random.seed(100)"
   ]
  },
  {
   "cell_type": "code",
   "execution_count": 3,
   "id": "030cdd93-b7a0-48a2-8b32-a539918eabbb",
   "metadata": {
    "tags": []
   },
   "outputs": [],
   "source": [
    "df = pd.read_csv('digit_data.csv')"
   ]
  },
  {
   "cell_type": "code",
   "execution_count": 4,
   "id": "fc0489c6-d4c5-4107-87d0-e330e127f4e0",
   "metadata": {
    "tags": []
   },
   "outputs": [
    {
     "data": {
      "text/html": [
       "<div>\n",
       "<style scoped>\n",
       "    .dataframe tbody tr th:only-of-type {\n",
       "        vertical-align: middle;\n",
       "    }\n",
       "\n",
       "    .dataframe tbody tr th {\n",
       "        vertical-align: top;\n",
       "    }\n",
       "\n",
       "    .dataframe thead th {\n",
       "        text-align: right;\n",
       "    }\n",
       "</style>\n",
       "<table border=\"1\" class=\"dataframe\">\n",
       "  <thead>\n",
       "    <tr style=\"text-align: right;\">\n",
       "      <th></th>\n",
       "      <th>label</th>\n",
       "      <th>pixel0</th>\n",
       "      <th>pixel1</th>\n",
       "      <th>pixel2</th>\n",
       "      <th>pixel3</th>\n",
       "      <th>pixel4</th>\n",
       "      <th>pixel5</th>\n",
       "      <th>pixel6</th>\n",
       "      <th>pixel7</th>\n",
       "      <th>pixel8</th>\n",
       "      <th>...</th>\n",
       "      <th>pixel774</th>\n",
       "      <th>pixel775</th>\n",
       "      <th>pixel776</th>\n",
       "      <th>pixel777</th>\n",
       "      <th>pixel778</th>\n",
       "      <th>pixel779</th>\n",
       "      <th>pixel780</th>\n",
       "      <th>pixel781</th>\n",
       "      <th>pixel782</th>\n",
       "      <th>pixel783</th>\n",
       "    </tr>\n",
       "  </thead>\n",
       "  <tbody>\n",
       "    <tr>\n",
       "      <th>0</th>\n",
       "      <td>1</td>\n",
       "      <td>0</td>\n",
       "      <td>0</td>\n",
       "      <td>0</td>\n",
       "      <td>0</td>\n",
       "      <td>0</td>\n",
       "      <td>0</td>\n",
       "      <td>0</td>\n",
       "      <td>0</td>\n",
       "      <td>0</td>\n",
       "      <td>...</td>\n",
       "      <td>0</td>\n",
       "      <td>0</td>\n",
       "      <td>0</td>\n",
       "      <td>0</td>\n",
       "      <td>0</td>\n",
       "      <td>0</td>\n",
       "      <td>0</td>\n",
       "      <td>0</td>\n",
       "      <td>0</td>\n",
       "      <td>0</td>\n",
       "    </tr>\n",
       "    <tr>\n",
       "      <th>1</th>\n",
       "      <td>0</td>\n",
       "      <td>0</td>\n",
       "      <td>0</td>\n",
       "      <td>0</td>\n",
       "      <td>0</td>\n",
       "      <td>0</td>\n",
       "      <td>0</td>\n",
       "      <td>0</td>\n",
       "      <td>0</td>\n",
       "      <td>0</td>\n",
       "      <td>...</td>\n",
       "      <td>0</td>\n",
       "      <td>0</td>\n",
       "      <td>0</td>\n",
       "      <td>0</td>\n",
       "      <td>0</td>\n",
       "      <td>0</td>\n",
       "      <td>0</td>\n",
       "      <td>0</td>\n",
       "      <td>0</td>\n",
       "      <td>0</td>\n",
       "    </tr>\n",
       "    <tr>\n",
       "      <th>2</th>\n",
       "      <td>1</td>\n",
       "      <td>0</td>\n",
       "      <td>0</td>\n",
       "      <td>0</td>\n",
       "      <td>0</td>\n",
       "      <td>0</td>\n",
       "      <td>0</td>\n",
       "      <td>0</td>\n",
       "      <td>0</td>\n",
       "      <td>0</td>\n",
       "      <td>...</td>\n",
       "      <td>0</td>\n",
       "      <td>0</td>\n",
       "      <td>0</td>\n",
       "      <td>0</td>\n",
       "      <td>0</td>\n",
       "      <td>0</td>\n",
       "      <td>0</td>\n",
       "      <td>0</td>\n",
       "      <td>0</td>\n",
       "      <td>0</td>\n",
       "    </tr>\n",
       "    <tr>\n",
       "      <th>3</th>\n",
       "      <td>4</td>\n",
       "      <td>0</td>\n",
       "      <td>0</td>\n",
       "      <td>0</td>\n",
       "      <td>0</td>\n",
       "      <td>0</td>\n",
       "      <td>0</td>\n",
       "      <td>0</td>\n",
       "      <td>0</td>\n",
       "      <td>0</td>\n",
       "      <td>...</td>\n",
       "      <td>0</td>\n",
       "      <td>0</td>\n",
       "      <td>0</td>\n",
       "      <td>0</td>\n",
       "      <td>0</td>\n",
       "      <td>0</td>\n",
       "      <td>0</td>\n",
       "      <td>0</td>\n",
       "      <td>0</td>\n",
       "      <td>0</td>\n",
       "    </tr>\n",
       "    <tr>\n",
       "      <th>4</th>\n",
       "      <td>0</td>\n",
       "      <td>0</td>\n",
       "      <td>0</td>\n",
       "      <td>0</td>\n",
       "      <td>0</td>\n",
       "      <td>0</td>\n",
       "      <td>0</td>\n",
       "      <td>0</td>\n",
       "      <td>0</td>\n",
       "      <td>0</td>\n",
       "      <td>...</td>\n",
       "      <td>0</td>\n",
       "      <td>0</td>\n",
       "      <td>0</td>\n",
       "      <td>0</td>\n",
       "      <td>0</td>\n",
       "      <td>0</td>\n",
       "      <td>0</td>\n",
       "      <td>0</td>\n",
       "      <td>0</td>\n",
       "      <td>0</td>\n",
       "    </tr>\n",
       "    <tr>\n",
       "      <th>...</th>\n",
       "      <td>...</td>\n",
       "      <td>...</td>\n",
       "      <td>...</td>\n",
       "      <td>...</td>\n",
       "      <td>...</td>\n",
       "      <td>...</td>\n",
       "      <td>...</td>\n",
       "      <td>...</td>\n",
       "      <td>...</td>\n",
       "      <td>...</td>\n",
       "      <td>...</td>\n",
       "      <td>...</td>\n",
       "      <td>...</td>\n",
       "      <td>...</td>\n",
       "      <td>...</td>\n",
       "      <td>...</td>\n",
       "      <td>...</td>\n",
       "      <td>...</td>\n",
       "      <td>...</td>\n",
       "      <td>...</td>\n",
       "      <td>...</td>\n",
       "    </tr>\n",
       "    <tr>\n",
       "      <th>41995</th>\n",
       "      <td>0</td>\n",
       "      <td>0</td>\n",
       "      <td>0</td>\n",
       "      <td>0</td>\n",
       "      <td>0</td>\n",
       "      <td>0</td>\n",
       "      <td>0</td>\n",
       "      <td>0</td>\n",
       "      <td>0</td>\n",
       "      <td>0</td>\n",
       "      <td>...</td>\n",
       "      <td>0</td>\n",
       "      <td>0</td>\n",
       "      <td>0</td>\n",
       "      <td>0</td>\n",
       "      <td>0</td>\n",
       "      <td>0</td>\n",
       "      <td>0</td>\n",
       "      <td>0</td>\n",
       "      <td>0</td>\n",
       "      <td>0</td>\n",
       "    </tr>\n",
       "    <tr>\n",
       "      <th>41996</th>\n",
       "      <td>1</td>\n",
       "      <td>0</td>\n",
       "      <td>0</td>\n",
       "      <td>0</td>\n",
       "      <td>0</td>\n",
       "      <td>0</td>\n",
       "      <td>0</td>\n",
       "      <td>0</td>\n",
       "      <td>0</td>\n",
       "      <td>0</td>\n",
       "      <td>...</td>\n",
       "      <td>0</td>\n",
       "      <td>0</td>\n",
       "      <td>0</td>\n",
       "      <td>0</td>\n",
       "      <td>0</td>\n",
       "      <td>0</td>\n",
       "      <td>0</td>\n",
       "      <td>0</td>\n",
       "      <td>0</td>\n",
       "      <td>0</td>\n",
       "    </tr>\n",
       "    <tr>\n",
       "      <th>41997</th>\n",
       "      <td>7</td>\n",
       "      <td>0</td>\n",
       "      <td>0</td>\n",
       "      <td>0</td>\n",
       "      <td>0</td>\n",
       "      <td>0</td>\n",
       "      <td>0</td>\n",
       "      <td>0</td>\n",
       "      <td>0</td>\n",
       "      <td>0</td>\n",
       "      <td>...</td>\n",
       "      <td>0</td>\n",
       "      <td>0</td>\n",
       "      <td>0</td>\n",
       "      <td>0</td>\n",
       "      <td>0</td>\n",
       "      <td>0</td>\n",
       "      <td>0</td>\n",
       "      <td>0</td>\n",
       "      <td>0</td>\n",
       "      <td>0</td>\n",
       "    </tr>\n",
       "    <tr>\n",
       "      <th>41998</th>\n",
       "      <td>6</td>\n",
       "      <td>0</td>\n",
       "      <td>0</td>\n",
       "      <td>0</td>\n",
       "      <td>0</td>\n",
       "      <td>0</td>\n",
       "      <td>0</td>\n",
       "      <td>0</td>\n",
       "      <td>0</td>\n",
       "      <td>0</td>\n",
       "      <td>...</td>\n",
       "      <td>0</td>\n",
       "      <td>0</td>\n",
       "      <td>0</td>\n",
       "      <td>0</td>\n",
       "      <td>0</td>\n",
       "      <td>0</td>\n",
       "      <td>0</td>\n",
       "      <td>0</td>\n",
       "      <td>0</td>\n",
       "      <td>0</td>\n",
       "    </tr>\n",
       "    <tr>\n",
       "      <th>41999</th>\n",
       "      <td>9</td>\n",
       "      <td>0</td>\n",
       "      <td>0</td>\n",
       "      <td>0</td>\n",
       "      <td>0</td>\n",
       "      <td>0</td>\n",
       "      <td>0</td>\n",
       "      <td>0</td>\n",
       "      <td>0</td>\n",
       "      <td>0</td>\n",
       "      <td>...</td>\n",
       "      <td>0</td>\n",
       "      <td>0</td>\n",
       "      <td>0</td>\n",
       "      <td>0</td>\n",
       "      <td>0</td>\n",
       "      <td>0</td>\n",
       "      <td>0</td>\n",
       "      <td>0</td>\n",
       "      <td>0</td>\n",
       "      <td>0</td>\n",
       "    </tr>\n",
       "  </tbody>\n",
       "</table>\n",
       "<p>42000 rows × 785 columns</p>\n",
       "</div>"
      ],
      "text/plain": [
       "       label  pixel0  pixel1  pixel2  pixel3  pixel4  pixel5  pixel6  pixel7  \\\n",
       "0          1       0       0       0       0       0       0       0       0   \n",
       "1          0       0       0       0       0       0       0       0       0   \n",
       "2          1       0       0       0       0       0       0       0       0   \n",
       "3          4       0       0       0       0       0       0       0       0   \n",
       "4          0       0       0       0       0       0       0       0       0   \n",
       "...      ...     ...     ...     ...     ...     ...     ...     ...     ...   \n",
       "41995      0       0       0       0       0       0       0       0       0   \n",
       "41996      1       0       0       0       0       0       0       0       0   \n",
       "41997      7       0       0       0       0       0       0       0       0   \n",
       "41998      6       0       0       0       0       0       0       0       0   \n",
       "41999      9       0       0       0       0       0       0       0       0   \n",
       "\n",
       "       pixel8  ...  pixel774  pixel775  pixel776  pixel777  pixel778  \\\n",
       "0           0  ...         0         0         0         0         0   \n",
       "1           0  ...         0         0         0         0         0   \n",
       "2           0  ...         0         0         0         0         0   \n",
       "3           0  ...         0         0         0         0         0   \n",
       "4           0  ...         0         0         0         0         0   \n",
       "...       ...  ...       ...       ...       ...       ...       ...   \n",
       "41995       0  ...         0         0         0         0         0   \n",
       "41996       0  ...         0         0         0         0         0   \n",
       "41997       0  ...         0         0         0         0         0   \n",
       "41998       0  ...         0         0         0         0         0   \n",
       "41999       0  ...         0         0         0         0         0   \n",
       "\n",
       "       pixel779  pixel780  pixel781  pixel782  pixel783  \n",
       "0             0         0         0         0         0  \n",
       "1             0         0         0         0         0  \n",
       "2             0         0         0         0         0  \n",
       "3             0         0         0         0         0  \n",
       "4             0         0         0         0         0  \n",
       "...         ...       ...       ...       ...       ...  \n",
       "41995         0         0         0         0         0  \n",
       "41996         0         0         0         0         0  \n",
       "41997         0         0         0         0         0  \n",
       "41998         0         0         0         0         0  \n",
       "41999         0         0         0         0         0  \n",
       "\n",
       "[42000 rows x 785 columns]"
      ]
     },
     "execution_count": 4,
     "metadata": {},
     "output_type": "execute_result"
    }
   ],
   "source": [
    "df"
   ]
  },
  {
   "cell_type": "code",
   "execution_count": 5,
   "id": "964035cc-eff6-4b9c-962d-8b1fec60edf4",
   "metadata": {
    "tags": []
   },
   "outputs": [
    {
     "data": {
      "text/html": [
       "<div>\n",
       "<style scoped>\n",
       "    .dataframe tbody tr th:only-of-type {\n",
       "        vertical-align: middle;\n",
       "    }\n",
       "\n",
       "    .dataframe tbody tr th {\n",
       "        vertical-align: top;\n",
       "    }\n",
       "\n",
       "    .dataframe thead th {\n",
       "        text-align: right;\n",
       "    }\n",
       "</style>\n",
       "<table border=\"1\" class=\"dataframe\">\n",
       "  <thead>\n",
       "    <tr style=\"text-align: right;\">\n",
       "      <th></th>\n",
       "      <th>label</th>\n",
       "      <th>pixel0</th>\n",
       "      <th>pixel1</th>\n",
       "      <th>pixel2</th>\n",
       "      <th>pixel3</th>\n",
       "      <th>pixel4</th>\n",
       "      <th>pixel5</th>\n",
       "      <th>pixel6</th>\n",
       "      <th>pixel7</th>\n",
       "      <th>pixel8</th>\n",
       "      <th>...</th>\n",
       "      <th>pixel774</th>\n",
       "      <th>pixel775</th>\n",
       "      <th>pixel776</th>\n",
       "      <th>pixel777</th>\n",
       "      <th>pixel778</th>\n",
       "      <th>pixel779</th>\n",
       "      <th>pixel780</th>\n",
       "      <th>pixel781</th>\n",
       "      <th>pixel782</th>\n",
       "      <th>pixel783</th>\n",
       "    </tr>\n",
       "  </thead>\n",
       "  <tbody>\n",
       "    <tr>\n",
       "      <th>0</th>\n",
       "      <td>1</td>\n",
       "      <td>0</td>\n",
       "      <td>0</td>\n",
       "      <td>0</td>\n",
       "      <td>0</td>\n",
       "      <td>0</td>\n",
       "      <td>0</td>\n",
       "      <td>0</td>\n",
       "      <td>0</td>\n",
       "      <td>0</td>\n",
       "      <td>...</td>\n",
       "      <td>0</td>\n",
       "      <td>0</td>\n",
       "      <td>0</td>\n",
       "      <td>0</td>\n",
       "      <td>0</td>\n",
       "      <td>0</td>\n",
       "      <td>0</td>\n",
       "      <td>0</td>\n",
       "      <td>0</td>\n",
       "      <td>0</td>\n",
       "    </tr>\n",
       "    <tr>\n",
       "      <th>1</th>\n",
       "      <td>0</td>\n",
       "      <td>0</td>\n",
       "      <td>0</td>\n",
       "      <td>0</td>\n",
       "      <td>0</td>\n",
       "      <td>0</td>\n",
       "      <td>0</td>\n",
       "      <td>0</td>\n",
       "      <td>0</td>\n",
       "      <td>0</td>\n",
       "      <td>...</td>\n",
       "      <td>0</td>\n",
       "      <td>0</td>\n",
       "      <td>0</td>\n",
       "      <td>0</td>\n",
       "      <td>0</td>\n",
       "      <td>0</td>\n",
       "      <td>0</td>\n",
       "      <td>0</td>\n",
       "      <td>0</td>\n",
       "      <td>0</td>\n",
       "    </tr>\n",
       "    <tr>\n",
       "      <th>2</th>\n",
       "      <td>1</td>\n",
       "      <td>0</td>\n",
       "      <td>0</td>\n",
       "      <td>0</td>\n",
       "      <td>0</td>\n",
       "      <td>0</td>\n",
       "      <td>0</td>\n",
       "      <td>0</td>\n",
       "      <td>0</td>\n",
       "      <td>0</td>\n",
       "      <td>...</td>\n",
       "      <td>0</td>\n",
       "      <td>0</td>\n",
       "      <td>0</td>\n",
       "      <td>0</td>\n",
       "      <td>0</td>\n",
       "      <td>0</td>\n",
       "      <td>0</td>\n",
       "      <td>0</td>\n",
       "      <td>0</td>\n",
       "      <td>0</td>\n",
       "    </tr>\n",
       "    <tr>\n",
       "      <th>3</th>\n",
       "      <td>4</td>\n",
       "      <td>0</td>\n",
       "      <td>0</td>\n",
       "      <td>0</td>\n",
       "      <td>0</td>\n",
       "      <td>0</td>\n",
       "      <td>0</td>\n",
       "      <td>0</td>\n",
       "      <td>0</td>\n",
       "      <td>0</td>\n",
       "      <td>...</td>\n",
       "      <td>0</td>\n",
       "      <td>0</td>\n",
       "      <td>0</td>\n",
       "      <td>0</td>\n",
       "      <td>0</td>\n",
       "      <td>0</td>\n",
       "      <td>0</td>\n",
       "      <td>0</td>\n",
       "      <td>0</td>\n",
       "      <td>0</td>\n",
       "    </tr>\n",
       "    <tr>\n",
       "      <th>4</th>\n",
       "      <td>0</td>\n",
       "      <td>0</td>\n",
       "      <td>0</td>\n",
       "      <td>0</td>\n",
       "      <td>0</td>\n",
       "      <td>0</td>\n",
       "      <td>0</td>\n",
       "      <td>0</td>\n",
       "      <td>0</td>\n",
       "      <td>0</td>\n",
       "      <td>...</td>\n",
       "      <td>0</td>\n",
       "      <td>0</td>\n",
       "      <td>0</td>\n",
       "      <td>0</td>\n",
       "      <td>0</td>\n",
       "      <td>0</td>\n",
       "      <td>0</td>\n",
       "      <td>0</td>\n",
       "      <td>0</td>\n",
       "      <td>0</td>\n",
       "    </tr>\n",
       "  </tbody>\n",
       "</table>\n",
       "<p>5 rows × 785 columns</p>\n",
       "</div>"
      ],
      "text/plain": [
       "   label  pixel0  pixel1  pixel2  pixel3  pixel4  pixel5  pixel6  pixel7  \\\n",
       "0      1       0       0       0       0       0       0       0       0   \n",
       "1      0       0       0       0       0       0       0       0       0   \n",
       "2      1       0       0       0       0       0       0       0       0   \n",
       "3      4       0       0       0       0       0       0       0       0   \n",
       "4      0       0       0       0       0       0       0       0       0   \n",
       "\n",
       "   pixel8  ...  pixel774  pixel775  pixel776  pixel777  pixel778  pixel779  \\\n",
       "0       0  ...         0         0         0         0         0         0   \n",
       "1       0  ...         0         0         0         0         0         0   \n",
       "2       0  ...         0         0         0         0         0         0   \n",
       "3       0  ...         0         0         0         0         0         0   \n",
       "4       0  ...         0         0         0         0         0         0   \n",
       "\n",
       "   pixel780  pixel781  pixel782  pixel783  \n",
       "0         0         0         0         0  \n",
       "1         0         0         0         0  \n",
       "2         0         0         0         0  \n",
       "3         0         0         0         0  \n",
       "4         0         0         0         0  \n",
       "\n",
       "[5 rows x 785 columns]"
      ]
     },
     "execution_count": 5,
     "metadata": {},
     "output_type": "execute_result"
    }
   ],
   "source": [
    "df.head(5)"
   ]
  },
  {
   "cell_type": "code",
   "execution_count": 6,
   "id": "54ee419a-1b11-43af-96fa-cc6457ca9c78",
   "metadata": {
    "tags": []
   },
   "outputs": [
    {
     "name": "stdout",
     "output_type": "stream",
     "text": [
      "42000 785\n"
     ]
    }
   ],
   "source": [
    "data = np.array(df)\n",
    "m, n = data.shape\n",
    "print(m,n)\n"
   ]
  },
  {
   "cell_type": "code",
   "execution_count": 7,
   "id": "d09b52e6-5c9c-47ad-888e-6c9c556eb48a",
   "metadata": {
    "tags": []
   },
   "outputs": [],
   "source": [
    "np.random.shuffle(data) # shuffle before splitting into dev and training sets"
   ]
  },
  {
   "cell_type": "code",
   "execution_count": 8,
   "id": "a35fe1e2-032b-4deb-85ed-872ff594426a",
   "metadata": {
    "tags": []
   },
   "outputs": [],
   "source": [
    "#Creating Test Set\n",
    "data_dev = data[0:1000].T\n",
    "Y_dev = data_dev[0]\n",
    "X_dev = data_dev[1:n]\n",
    "X_dev = X_dev / 255.\n"
   ]
  },
  {
   "cell_type": "code",
   "execution_count": 9,
   "id": "c215c30f-51cb-4a55-a0c7-4cc7c09b10bb",
   "metadata": {
    "tags": []
   },
   "outputs": [],
   "source": [
    "#Creating Train Set\n",
    "data_train = data[1000:m].T\n",
    "Y_train = data_train[0]\n",
    "X_train = data_train[1:n]\n",
    "X_train = X_train / 255.\n",
    "_,m_train = X_train.shape"
   ]
  },
  {
   "cell_type": "code",
   "execution_count": 10,
   "id": "62f4e2d9-6c28-43fc-9d19-47e9b147f926",
   "metadata": {},
   "outputs": [
    {
     "data": {
      "text/plain": [
       "41000"
      ]
     },
     "execution_count": 10,
     "metadata": {},
     "output_type": "execute_result"
    }
   ],
   "source": [
    "m_train"
   ]
  },
  {
   "cell_type": "code",
   "execution_count": 11,
   "id": "0a030076-d3cb-40a1-b23a-aaf1b238cda6",
   "metadata": {
    "tags": []
   },
   "outputs": [
    {
     "data": {
      "text/plain": [
       "(784, 41000)"
      ]
     },
     "execution_count": 11,
     "metadata": {},
     "output_type": "execute_result"
    }
   ],
   "source": [
    "X_train.shape"
   ]
  },
  {
   "cell_type": "code",
   "execution_count": 12,
   "id": "56c3f4ae-ff81-44db-8017-f601650bac3a",
   "metadata": {
    "tags": []
   },
   "outputs": [
    {
     "data": {
      "text/plain": [
       "11149"
      ]
     },
     "execution_count": 12,
     "metadata": {},
     "output_type": "execute_result"
    }
   ],
   "source": [
    "random_index = np.random.randint(0, 41000)\n",
    "random_index"
   ]
  },
  {
   "cell_type": "code",
   "execution_count": 13,
   "id": "451adb09-9e0e-42c9-b97a-2763d939d335",
   "metadata": {
    "tags": []
   },
   "outputs": [
    {
     "data": {
      "text/plain": [
       "<matplotlib.image.AxesImage at 0x22b4c821c60>"
      ]
     },
     "execution_count": 13,
     "metadata": {},
     "output_type": "execute_result"
    },
    {
     "data": {
      "image/png": "[encoded data removed]",
      "text/plain": [
       "<Figure size 640x480 with 1 Axes>"
      ]
     },
     "metadata": {},
     "output_type": "display_data"
    }
   ],
   "source": [
    "img = X_train.T[random_index]\n",
    "img = np.reshape(img, (28,28))\n",
    "plt.imshow(img)"
   ]
  },
  {
   "cell_type": "code",
   "execution_count": 14,
   "id": "166e9afe-8c3a-4ca7-ab92-177a362277c3",
   "metadata": {
    "tags": []
   },
   "outputs": [
    {
     "data": {
      "text/plain": [
       "4"
      ]
     },
     "execution_count": 14,
     "metadata": {},
     "output_type": "execute_result"
    }
   ],
   "source": [
    "Y_train[random_index]"
   ]
  },
  {
   "cell_type": "markdown",
   "id": "26578f05-6e47-4afb-9457-578ad31424f0",
   "metadata": {},
   "source": [
    "**FUNTIONS**"
   ]
  },
  {
   "cell_type": "markdown",
   "id": "bdba8181-ffd3-4d1e-b376-adb9d6c43a9f",
   "metadata": {},
   "source": [
    "1. Initialize parameters"
   ]
  },
  {
   "cell_type": "code",
   "execution_count": 15,
   "id": "6ea0f027-e09e-447c-ac94-7a1fa05a2f90",
   "metadata": {
    "tags": []
   },
   "outputs": [],
   "source": [
    "def init_params():\n",
    "#     # Number of nodes in the input layer\n",
    "#     n_input = 784\n",
    "\n",
    "#     # Number of nodes in the hidden layer\n",
    "#     n_hidden = 10\n",
    "\n",
    "#     # Number of nodes in the output layer\n",
    "#     n_output = 10\n",
    "    #Initialize weights and biases for the hidden layer\n",
    "    W1 = np.random.rand(10, 784) - 0.5\n",
    "    b1 = np.random.rand(10, 1) - 0.5\n",
    "    \n",
    "    # Initialize weights and biases for the output layer\n",
    "    W2 = np.random.rand(10, 10) - 0.5\n",
    "    b2 = np.random.rand(10, 1) - 0.5\n",
    "    return W1, b1, W2, b2"
   ]
  },
  {
   "cell_type": "markdown",
   "id": "36ae04ab-f2ee-4e69-a3ae-17dff7fc0fc1",
   "metadata": {},
   "source": [
    "2. RELU"
   ]
  },
  {
   "cell_type": "code",
   "execution_count": 16,
   "id": "3a7768e8-ec48-46c6-8c73-5837f03cbc23",
   "metadata": {
    "tags": []
   },
   "outputs": [],
   "source": [
    "def ReLU(Z):\n",
    "    return np.maximum(Z, 0)"
   ]
  },
  {
   "cell_type": "markdown",
   "id": "9d7faa6e-2fb2-4d89-9bec-f92f3b6fe935",
   "metadata": {},
   "source": [
    "3. SOFTMAX"
   ]
  },
  {
   "cell_type": "code",
   "execution_count": 17,
   "id": "abc41dec-a23c-4b9b-84bf-ad8e55bf5fdf",
   "metadata": {
    "tags": []
   },
   "outputs": [],
   "source": [
    "def softmax(Z):\n",
    "    A = np.exp(Z) / sum(np.exp(Z))\n",
    "    return A"
   ]
  },
  {
   "cell_type": "markdown",
   "id": "48b79f34-6784-4b91-964c-28655d7de549",
   "metadata": {
    "tags": []
   },
   "source": [
    "4. RELU DERIVATIVE"
   ]
  },
  {
   "cell_type": "code",
   "execution_count": 18,
   "id": "bd5ee5cc-deea-4fe2-a391-aa5ef38409d0",
   "metadata": {
    "tags": []
   },
   "outputs": [],
   "source": [
    "def ReLU_deriv(Z):\n",
    "    return Z > 0"
   ]
  },
  {
   "cell_type": "markdown",
   "id": "1b076f66-ab9a-4cb5-8d50-60eb17ac075f",
   "metadata": {},
   "source": [
    "5. Forward Propagation"
   ]
  },
  {
   "cell_type": "code",
   "execution_count": 19,
   "id": "5717b8da-35c7-485d-8878-4f37f5511db3",
   "metadata": {
    "tags": []
   },
   "outputs": [],
   "source": [
    "def forward_prop(W1, b1, W2, b2, X):\n",
    "    Z1 = W1.dot(X) + b1\n",
    "    A1 = ReLU(Z1)\n",
    "    Z2 = W2.dot(A1) + b2\n",
    "    A2 = softmax(Z2)\n",
    "    return Z1, A1, Z2, A2"
   ]
  },
  {
   "cell_type": "markdown",
   "id": "2dbd5776-69e7-4cc7-b2a6-4c558e8a5e32",
   "metadata": {},
   "source": [
    "6. One Hot"
   ]
  },
  {
   "cell_type": "code",
   "execution_count": 20,
   "id": "c5d5b8ae-d0ae-4a5f-9408-41356607882f",
   "metadata": {
    "tags": []
   },
   "outputs": [],
   "source": [
    "def one_hot(Y):\n",
    "    one_hot_Y = np.zeros((Y.size, Y.max() + 1))\n",
    "    one_hot_Y[np.arange(Y.size), Y] = 1\n",
    "    one_hot_Y = one_hot_Y.T\n",
    "    return one_hot_Y"
   ]
  },
  {
   "cell_type": "markdown",
   "id": "9cc80238-e721-4332-95c3-0b97c2d77bf6",
   "metadata": {},
   "source": [
    "7. Backward Propagation"
   ]
  },
  {
   "cell_type": "code",
   "execution_count": 21,
   "id": "bb2f0513-f92b-492c-85db-66a5e022e9b2",
   "metadata": {
    "tags": []
   },
   "outputs": [],
   "source": [
    "def backward_prop(Z1, A1, Z2, A2, W1, W2, X, Y):\n",
    "    one_hot_Y = one_hot(Y)\n",
    "    dZ2 = A2 - one_hot_Y\n",
    "    dW2 = 1 / m * dZ2.dot(A1.T)\n",
    "    db2 = 1 / m * np.sum(dZ2)\n",
    "    dZ1 = W2.T.dot(dZ2) * ReLU_deriv(Z1)\n",
    "    dW1 = 1 / m * dZ1.dot(X.T)\n",
    "    db1 = 1 / m * np.sum(dZ1)\n",
    "    return dW1, db1, dW2, db2"
   ]
  },
  {
   "cell_type": "markdown",
   "id": "610b9faf-8bf9-4b32-8221-a8912ec3138f",
   "metadata": {},
   "source": [
    "8.Update Parameters"
   ]
  },
  {
   "cell_type": "code",
   "execution_count": 22,
   "id": "d00c11f2-8f4d-45bb-addb-b45417a20669",
   "metadata": {
    "tags": []
   },
   "outputs": [],
   "source": [
    "def update_params(W1, b1, W2, b2, dW1, db1, dW2, db2, alpha):\n",
    "    W1 = W1 - alpha * dW1\n",
    "    b1 = b1 - alpha * db1    \n",
    "    W2 = W2 - alpha * dW2  \n",
    "    b2 = b2 - alpha * db2    \n",
    "    return W1, b1, W2, b2"
   ]
  },
  {
   "cell_type": "markdown",
   "id": "9494e1a4-113c-4006-9194-9946d58ba363",
   "metadata": {},
   "source": [
    "9.Get predictions"
   ]
  },
  {
   "cell_type": "code",
   "execution_count": 23,
   "id": "08598b1d-078e-4d25-b10a-d64a6294b900",
   "metadata": {
    "tags": []
   },
   "outputs": [],
   "source": [
    "def get_predictions(A2):\n",
    "    return np.argmax(A2, 0)"
   ]
  },
  {
   "cell_type": "markdown",
   "id": "9c29b399-8751-4f40-b8ea-235b415e2f00",
   "metadata": {},
   "source": [
    "10. Accuracy"
   ]
  },
  {
   "cell_type": "code",
   "execution_count": 24,
   "id": "350616f0-8d97-4ea3-b204-2647396c13c8",
   "metadata": {
    "tags": []
   },
   "outputs": [],
   "source": [
    "def get_accuracy(predictions, Y):\n",
    "    print(predictions, Y)\n",
    "    return np.sum(predictions == Y) / Y.size"
   ]
  },
  {
   "cell_type": "markdown",
   "id": "a59b5590-c5af-48ee-94e4-08dfa51da2fa",
   "metadata": {},
   "source": [
    "11. Gradient Descent"
   ]
  },
  {
   "cell_type": "code",
   "execution_count": 25,
   "id": "f2bc2201-16b2-4a30-8311-654a451d4531",
   "metadata": {
    "tags": []
   },
   "outputs": [],
   "source": [
    "# accuracy_scores = []  # To store accuracy scores at different iterations\n",
    "def gradient_descent(X, Y, alpha, iterations):\n",
    "    W1, b1, W2, b2 = init_params()\n",
    "    accuracy_scores = []  # To store accuracy scores at different iterations\n",
    "\n",
    "    for i in range(iterations):\n",
    "        Z1, A1, Z2, A2 = forward_prop(W1, b1, W2, b2, X)\n",
    "        dW1, db1, dW2, db2 = backward_prop(Z1, A1, Z2, A2, W1, W2, X, Y)\n",
    "        W1, b1, W2, b2 = update_params(W1, b1, W2, b2, dW1, db1, dW2, db2, alpha)\n",
    "        if i % 5 == 0:\n",
    "            print(\"Iteration: \", i)\n",
    "            predictions = get_predictions(A2)\n",
    "            accuracy = get_accuracy(predictions, Y)\n",
    "            print(accuracy)\n",
    "            accuracy_scores.append((i, accuracy))\n",
    "     # Convert accuracy_scores to separate lists for plotting\n",
    "    iterations, accuracies = zip(*accuracy_scores)\n",
    "   \n",
    "    # Plotting accuracy vs iterations\n",
    "    plt.plot(iterations, accuracies)\n",
    "    plt.grid()\n",
    "    plt.xlabel('Iterations')\n",
    "    plt.ylabel('Accuracy')\n",
    "    plt.title('Accuracy vs Iterations')\n",
    "    plt.show()\n",
    "    return W1, b1, W2, b2\n"
   ]
  },
  {
   "cell_type": "code",
   "execution_count": 26,
   "id": "d4ff0ac7-4439-479b-99bc-d9bd92d3497c",
   "metadata": {
    "tags": []
   },
   "outputs": [
    {
     "name": "stdout",
     "output_type": "stream",
     "text": [
      "Iteration:  0\n",
      "[3 7 7 ... 7 7 7] [5 8 6 ... 7 9 2]\n",
      "0.09204878048780488\n",
      "Iteration:  5\n",
      "[3 8 3 ... 3 7 7] [5 8 6 ... 7 9 2]\n",
      "0.11985365853658536\n",
      "Iteration:  10\n",
      "[3 8 8 ... 7 7 7] [5 8 6 ... 7 9 2]\n",
      "0.1475121951219512\n",
      "Iteration:  15\n",
      "[3 8 4 ... 7 7 4] [5 8 6 ... 7 9 2]\n",
      "0.17485365853658535\n",
      "Iteration:  20\n",
      "[3 8 4 ... 7 7 4] [5 8 6 ... 7 9 2]\n",
      "0.20007317073170733\n",
      "Iteration:  25\n",
      "[3 8 4 ... 7 7 2] [5 8 6 ... 7 9 2]\n",
      "0.23\n",
      "Iteration:  30\n",
      "[3 8 4 ... 7 7 2] [5 8 6 ... 7 9 2]\n",
      "0.2679756097560976\n",
      "Iteration:  35\n",
      "[2 8 4 ... 7 7 2] [5 8 6 ... 7 9 2]\n",
      "0.3058292682926829\n",
      "Iteration:  40\n",
      "[2 2 4 ... 7 7 2] [5 8 6 ... 7 9 2]\n",
      "0.3395365853658537\n",
      "Iteration:  45\n",
      "[2 2 4 ... 7 9 2] [5 8 6 ... 7 9 2]\n",
      "0.3717560975609756\n",
      "Iteration:  50\n",
      "[2 2 9 ... 7 9 2] [5 8 6 ... 7 9 2]\n",
      "0.4\n",
      "Iteration:  55\n",
      "[2 2 9 ... 7 9 2] [5 8 6 ... 7 9 2]\n",
      "0.42897560975609755\n",
      "Iteration:  60\n",
      "[2 2 9 ... 7 9 2] [5 8 6 ... 7 9 2]\n",
      "0.4518048780487805\n",
      "Iteration:  65\n",
      "[2 8 9 ... 7 9 2] [5 8 6 ... 7 9 2]\n",
      "0.4729512195121951\n",
      "Iteration:  70\n",
      "[2 8 9 ... 7 9 2] [5 8 6 ... 7 9 2]\n",
      "0.49053658536585365\n",
      "Iteration:  75\n",
      "[2 8 9 ... 7 9 2] [5 8 6 ... 7 9 2]\n",
      "0.5073170731707317\n",
      "Iteration:  80\n",
      "[2 8 9 ... 7 9 2] [5 8 6 ... 7 9 2]\n",
      "0.5236341463414634\n",
      "Iteration:  85\n",
      "[2 8 4 ... 7 9 2] [5 8 6 ... 7 9 2]\n",
      "0.5383414634146342\n",
      "Iteration:  90\n",
      "[2 8 4 ... 7 9 2] [5 8 6 ... 7 9 2]\n",
      "0.552609756097561\n",
      "Iteration:  95\n",
      "[2 8 4 ... 7 9 2] [5 8 6 ... 7 9 2]\n",
      "0.5671463414634146\n",
      "Iteration:  100\n",
      "[2 8 4 ... 7 9 2] [5 8 6 ... 7 9 2]\n",
      "0.5801219512195122\n",
      "Iteration:  105\n",
      "[2 8 4 ... 7 9 2] [5 8 6 ... 7 9 2]\n",
      "0.5920487804878048\n",
      "Iteration:  110\n",
      "[2 8 4 ... 7 9 2] [5 8 6 ... 7 9 2]\n",
      "0.6038292682926829\n",
      "Iteration:  115\n",
      "[2 8 4 ... 7 9 2] [5 8 6 ... 7 9 2]\n",
      "0.6141707317073171\n",
      "Iteration:  120\n",
      "[2 8 4 ... 7 9 2] [5 8 6 ... 7 9 2]\n",
      "0.6249024390243902\n",
      "Iteration:  125\n",
      "[2 8 4 ... 7 9 2] [5 8 6 ... 7 9 2]\n",
      "0.6342926829268293\n",
      "Iteration:  130\n",
      "[2 8 4 ... 7 9 2] [5 8 6 ... 7 9 2]\n",
      "0.6433414634146342\n",
      "Iteration:  135\n",
      "[2 8 4 ... 7 9 2] [5 8 6 ... 7 9 2]\n",
      "0.6516585365853659\n",
      "Iteration:  140\n",
      "[2 8 4 ... 7 9 2] [5 8 6 ... 7 9 2]\n",
      "0.6601951219512195\n",
      "Iteration:  145\n",
      "[2 8 4 ... 7 9 2] [5 8 6 ... 7 9 2]\n",
      "0.6683170731707317\n",
      "Iteration:  150\n",
      "[2 8 4 ... 7 9 2] [5 8 6 ... 7 9 2]\n",
      "0.6754878048780488\n",
      "Iteration:  155\n",
      "[2 8 4 ... 7 9 2] [5 8 6 ... 7 9 2]\n",
      "0.6818536585365854\n",
      "Iteration:  160\n",
      "[2 8 4 ... 7 9 2] [5 8 6 ... 7 9 2]\n",
      "0.6890243902439024\n",
      "Iteration:  165\n",
      "[2 8 4 ... 7 9 2] [5 8 6 ... 7 9 2]\n",
      "0.695560975609756\n",
      "Iteration:  170\n",
      "[2 8 4 ... 7 9 2] [5 8 6 ... 7 9 2]\n",
      "0.7012195121951219\n",
      "Iteration:  175\n",
      "[2 8 4 ... 7 9 2] [5 8 6 ... 7 9 2]\n",
      "0.7075121951219512\n",
      "Iteration:  180\n",
      "[2 8 4 ... 7 9 2] [5 8 6 ... 7 9 2]\n",
      "0.7132195121951219\n",
      "Iteration:  185\n",
      "[2 8 4 ... 7 9 2] [5 8 6 ... 7 9 2]\n",
      "0.7184878048780488\n",
      "Iteration:  190\n",
      "[2 8 4 ... 7 9 2] [5 8 6 ... 7 9 2]\n",
      "0.7227073170731707\n",
      "Iteration:  195\n",
      "[2 8 4 ... 7 9 2] [5 8 6 ... 7 9 2]\n",
      "0.7279756097560975\n",
      "Iteration:  200\n",
      "[2 8 4 ... 7 9 2] [5 8 6 ... 7 9 2]\n",
      "0.7325609756097561\n",
      "Iteration:  205\n",
      "[2 8 4 ... 7 9 2] [5 8 6 ... 7 9 2]\n",
      "0.7367073170731707\n",
      "Iteration:  210\n",
      "[2 8 4 ... 7 9 2] [5 8 6 ... 7 9 2]\n",
      "0.7405365853658537\n",
      "Iteration:  215\n",
      "[2 8 4 ... 7 9 2] [5 8 6 ... 7 9 2]\n",
      "0.7443170731707317\n",
      "Iteration:  220\n",
      "[2 8 4 ... 7 9 2] [5 8 6 ... 7 9 2]\n",
      "0.7480243902439024\n",
      "Iteration:  225\n",
      "[2 8 4 ... 7 9 2] [5 8 6 ... 7 9 2]\n",
      "0.7515609756097561\n",
      "Iteration:  230\n",
      "[2 8 4 ... 7 9 2] [5 8 6 ... 7 9 2]\n",
      "0.7550731707317073\n",
      "Iteration:  235\n",
      "[2 8 4 ... 7 9 2] [5 8 6 ... 7 9 2]\n",
      "0.7580243902439024\n",
      "Iteration:  240\n",
      "[2 8 4 ... 7 9 2] [5 8 6 ... 7 9 2]\n",
      "0.7612682926829268\n",
      "Iteration:  245\n",
      "[8 8 4 ... 7 9 2] [5 8 6 ... 7 9 2]\n",
      "0.7641219512195122\n",
      "Iteration:  250\n",
      "[8 8 4 ... 7 9 2] [5 8 6 ... 7 9 2]\n",
      "0.7670243902439025\n",
      "Iteration:  255\n",
      "[8 8 4 ... 7 9 2] [5 8 6 ... 7 9 2]\n",
      "0.7696585365853659\n",
      "Iteration:  260\n",
      "[8 8 4 ... 7 9 2] [5 8 6 ... 7 9 2]\n",
      "0.7725365853658537\n",
      "Iteration:  265\n",
      "[8 8 4 ... 7 9 2] [5 8 6 ... 7 9 2]\n",
      "0.7751951219512195\n",
      "Iteration:  270\n",
      "[8 8 4 ... 7 9 2] [5 8 6 ... 7 9 2]\n",
      "0.7773414634146342\n",
      "Iteration:  275\n",
      "[8 8 4 ... 7 9 2] [5 8 6 ... 7 9 2]\n",
      "0.779609756097561\n",
      "Iteration:  280\n",
      "[8 8 4 ... 7 9 2] [5 8 6 ... 7 9 2]\n",
      "0.7816585365853659\n",
      "Iteration:  285\n",
      "[8 8 4 ... 7 9 2] [5 8 6 ... 7 9 2]\n",
      "0.7842682926829269\n",
      "Iteration:  290\n",
      "[8 8 4 ... 7 9 2] [5 8 6 ... 7 9 2]\n",
      "0.7872439024390244\n",
      "Iteration:  295\n",
      "[8 8 4 ... 7 9 2] [5 8 6 ... 7 9 2]\n",
      "0.7891707317073171\n",
      "Iteration:  300\n",
      "[8 8 4 ... 7 9 2] [5 8 6 ... 7 9 2]\n",
      "0.7912926829268293\n",
      "Iteration:  305\n",
      "[8 8 4 ... 7 9 2] [5 8 6 ... 7 9 2]\n",
      "0.7935609756097561\n",
      "Iteration:  310\n",
      "[8 8 4 ... 7 9 2] [5 8 6 ... 7 9 2]\n",
      "0.7954146341463415\n",
      "Iteration:  315\n",
      "[8 8 4 ... 7 9 2] [5 8 6 ... 7 9 2]\n",
      "0.7970243902439025\n",
      "Iteration:  320\n",
      "[8 8 4 ... 7 9 2] [5 8 6 ... 7 9 2]\n",
      "0.7988780487804878\n",
      "Iteration:  325\n",
      "[8 8 4 ... 7 9 2] [5 8 6 ... 7 9 2]\n",
      "0.800829268292683\n",
      "Iteration:  330\n",
      "[8 8 4 ... 7 9 2] [5 8 6 ... 7 9 2]\n",
      "0.8026585365853659\n",
      "Iteration:  335\n",
      "[8 8 4 ... 7 9 2] [5 8 6 ... 7 9 2]\n",
      "0.8047804878048781\n",
      "Iteration:  340\n",
      "[8 8 4 ... 7 9 2] [5 8 6 ... 7 9 2]\n",
      "0.8069268292682927\n",
      "Iteration:  345\n",
      "[8 8 4 ... 7 9 2] [5 8 6 ... 7 9 2]\n",
      "0.8085609756097561\n",
      "Iteration:  350\n",
      "[8 8 4 ... 7 9 2] [5 8 6 ... 7 9 2]\n",
      "0.8103902439024391\n",
      "Iteration:  355\n",
      "[8 8 4 ... 7 9 2] [5 8 6 ... 7 9 2]\n",
      "0.8123414634146342\n",
      "Iteration:  360\n",
      "[8 8 4 ... 7 9 2] [5 8 6 ... 7 9 2]\n",
      "0.814170731707317\n",
      "Iteration:  365\n",
      "[8 8 4 ... 7 9 2] [5 8 6 ... 7 9 2]\n",
      "0.8157073170731707\n",
      "Iteration:  370\n",
      "[8 8 4 ... 7 9 2] [5 8 6 ... 7 9 2]\n",
      "0.8171463414634146\n",
      "Iteration:  375\n",
      "[8 8 4 ... 7 9 2] [5 8 6 ... 7 9 2]\n",
      "0.8183170731707317\n",
      "Iteration:  380\n",
      "[8 8 4 ... 7 9 2] [5 8 6 ... 7 9 2]\n",
      "0.8199512195121951\n",
      "Iteration:  385\n",
      "[8 8 6 ... 7 9 2] [5 8 6 ... 7 9 2]\n",
      "0.8211463414634146\n",
      "Iteration:  390\n",
      "[8 8 6 ... 7 9 2] [5 8 6 ... 7 9 2]\n",
      "0.8225365853658536\n",
      "Iteration:  395\n",
      "[8 8 6 ... 7 9 2] [5 8 6 ... 7 9 2]\n",
      "0.8239512195121951\n",
      "Iteration:  400\n",
      "[8 8 6 ... 7 9 2] [5 8 6 ... 7 9 2]\n",
      "0.8251219512195122\n",
      "Iteration:  405\n",
      "[8 8 6 ... 7 9 2] [5 8 6 ... 7 9 2]\n",
      "0.8265853658536585\n",
      "Iteration:  410\n",
      "[8 8 6 ... 7 9 2] [5 8 6 ... 7 9 2]\n",
      "0.8281463414634146\n",
      "Iteration:  415\n",
      "[8 8 6 ... 7 9 2] [5 8 6 ... 7 9 2]\n",
      "0.8294146341463414\n",
      "Iteration:  420\n",
      "[8 8 6 ... 7 9 2] [5 8 6 ... 7 9 2]\n",
      "0.8306829268292683\n",
      "Iteration:  425\n",
      "[8 8 6 ... 7 9 2] [5 8 6 ... 7 9 2]\n",
      "0.8318048780487804\n",
      "Iteration:  430\n",
      "[8 8 6 ... 7 9 2] [5 8 6 ... 7 9 2]\n",
      "0.8329024390243902\n",
      "Iteration:  435\n",
      "[8 8 6 ... 7 9 2] [5 8 6 ... 7 9 2]\n",
      "0.8338292682926829\n",
      "Iteration:  440\n",
      "[8 8 6 ... 7 9 2] [5 8 6 ... 7 9 2]\n",
      "0.8350731707317073\n",
      "Iteration:  445\n",
      "[8 8 6 ... 7 9 2] [5 8 6 ... 7 9 2]\n",
      "0.8364878048780487\n",
      "Iteration:  450\n",
      "[8 8 6 ... 7 9 2] [5 8 6 ... 7 9 2]\n",
      "0.8378536585365853\n",
      "Iteration:  455\n",
      "[8 8 6 ... 7 9 2] [5 8 6 ... 7 9 2]\n",
      "0.8389756097560975\n",
      "Iteration:  460\n",
      "[8 8 6 ... 7 9 2] [5 8 6 ... 7 9 2]\n",
      "0.8397560975609756\n",
      "Iteration:  465\n",
      "[8 8 6 ... 7 9 2] [5 8 6 ... 7 9 2]\n",
      "0.840780487804878\n",
      "Iteration:  470\n",
      "[5 8 6 ... 7 9 2] [5 8 6 ... 7 9 2]\n",
      "0.8416341463414634\n",
      "Iteration:  475\n",
      "[5 8 6 ... 7 9 2] [5 8 6 ... 7 9 2]\n",
      "0.8427073170731707\n",
      "Iteration:  480\n",
      "[5 8 6 ... 7 9 2] [5 8 6 ... 7 9 2]\n",
      "0.8435365853658536\n",
      "Iteration:  485\n",
      "[5 8 6 ... 7 9 2] [5 8 6 ... 7 9 2]\n",
      "0.8444634146341463\n",
      "Iteration:  490\n",
      "[5 8 6 ... 7 9 2] [5 8 6 ... 7 9 2]\n",
      "0.8454390243902439\n",
      "Iteration:  495\n",
      "[5 8 6 ... 7 9 2] [5 8 6 ... 7 9 2]\n",
      "0.8462682926829268\n"
     ]
    },
    {
     "data": {
      "image/png": "[encoded data removed]",
      "text/plain": [
       "<Figure size 640x480 with 1 Axes>"
      ]
     },
     "metadata": {},
     "output_type": "display_data"
    }
   ],
   "source": [
    "W1, b1, W2, b2 = gradient_descent(X_train, Y_train, 0.10, 500)"
   ]
  },
  {
   "cell_type": "markdown",
   "id": "2f60b762-fc77-491c-a142-faceb4093497",
   "metadata": {},
   "source": [
    "12. Make predictions"
   ]
  },
  {
   "cell_type": "code",
   "execution_count": 27,
   "id": "991fbf71-32aa-46f5-bad3-dec74c1f9fa2",
   "metadata": {
    "tags": []
   },
   "outputs": [],
   "source": [
    "def make_predictions(X, W1, b1, W2, b2):\n",
    "    _, _, _, A2 = forward_prop(W1, b1, W2, b2, X)\n",
    "    predictions = get_predictions(A2)\n",
    "    return predictions"
   ]
  },
  {
   "cell_type": "markdown",
   "id": "13d97fe9-1ca6-4b6a-982b-2dd8f83173f5",
   "metadata": {},
   "source": [
    "13. Test Predictions"
   ]
  },
  {
   "cell_type": "code",
   "execution_count": 28,
   "id": "dcf1d91f-1cab-4beb-b0e6-297241235dbe",
   "metadata": {
    "tags": []
   },
   "outputs": [],
   "source": [
    "def test_prediction(index, W1, b1, W2, b2):\n",
    "    current_image = X_train[:, index, None]\n",
    "    prediction = make_predictions(X_train[:, index, None], W1, b1, W2, b2)\n",
    "    label = Y_train[index]\n",
    "    print(\"Prediction: \", prediction)\n",
    "    print(\"Label: \", label)\n",
    "    \n",
    "    current_image = current_image.reshape((28, 28)) * 255\n",
    "    plt.gray()\n",
    "    plt.imshow(current_image, interpolation='nearest')\n",
    "    plt.show()"
   ]
  },
  {
   "cell_type": "code",
   "execution_count": 29,
   "id": "65f7eaac-46cc-4035-90a8-c48dd4a83908",
   "metadata": {
    "tags": []
   },
   "outputs": [
    {
     "name": "stdout",
     "output_type": "stream",
     "text": [
      "Prediction:  [5]\n",
      "Label:  5\n"
     ]
    },
    {
     "data": {
      "image/png": "[encoded data removed]",
      "text/plain": [
       "<Figure size 640x480 with 1 Axes>"
      ]
     },
     "metadata": {},
     "output_type": "display_data"
    },
    {
     "name": "stdout",
     "output_type": "stream",
     "text": [
      "Prediction:  [8]\n",
      "Label:  8\n"
     ]
    },
    {
     "data": {
      "image/png": "[encoded data removed]",
      "text/plain": [
       "<Figure size 640x480 with 1 Axes>"
      ]
     },
     "metadata": {},
     "output_type": "display_data"
    },
    {
     "name": "stdout",
     "output_type": "stream",
     "text": [
      "Prediction:  [6]\n",
      "Label:  6\n"
     ]
    },
    {
     "data": {
      "image/png": "[encoded data removed]",
      "text/plain": [
       "<Figure size 640x480 with 1 Axes>"
      ]
     },
     "metadata": {},
     "output_type": "display_data"
    },
    {
     "name": "stdout",
     "output_type": "stream",
     "text": [
      "Prediction:  [1]\n",
      "Label:  1\n"
     ]
    },
    {
     "data": {
      "image/png": "[encoded data removed]",
      "text/plain": [
       "<Figure size 640x480 with 1 Axes>"
      ]
     },
     "metadata": {},
     "output_type": "display_data"
    }
   ],
   "source": [
    "test_prediction(0, W1, b1, W2, b2)\n",
    "test_prediction(1, W1, b1, W2, b2)\n",
    "test_prediction(2, W1, b1, W2, b2)\n",
    "test_prediction(3, W1, b1, W2, b2)"
   ]
  },
  {
   "cell_type": "code",
   "execution_count": 30,
   "id": "4d653ff9-a69e-495b-91fb-bda87935e7b6",
   "metadata": {
    "tags": []
   },
   "outputs": [
    {
     "name": "stdout",
     "output_type": "stream",
     "text": [
      "[5 0 2 7 7 9 4 3 5 3 3 9 6 7 1 7 9 9 4 5 1 3 9 1 3 9 5 9 3 4 9 0 7 4 5 4 0\n",
      " 1 5 0 3 5 9 3 4 4 0 4 9 2 6 4 3 4 9 1 5 1 9 9 8 2 1 1 8 9 7 6 0 6 2 0 9 8\n",
      " 7 5 2 9 4 0 9 4 9 3 5 0 6 6 1 6 0 8 9 7 6 6 0 5 9 1 3 5 3 2 8 7 4 8 6 0 5\n",
      " 7 8 5 0 3 1 9 9 0 9 5 9 7 1 8 9 6 1 9 7 7 0 3 8 8 2 8 8 2 2 0 5 2 9 0 6 5\n",
      " 7 7 1 7 7 0 9 7 8 6 7 3 1 9 9 5 1 9 4 6 4 9 7 9 7 5 0 0 5 3 9 9 6 0 7 3 2\n",
      " 0 9 0 6 5 0 8 3 7 8 5 8 4 4 1 2 4 1 6 6 7 9 6 1 2 7 3 3 6 9 8 4 2 7 7 3 5\n",
      " 0 9 6 4 2 1 1 1 0 1 9 7 4 8 3 8 3 0 5 2 2 8 8 1 1 3 1 2 0 5 6 2 5 4 6 6 3\n",
      " 5 8 3 1 3 1 0 1 3 4 1 3 4 5 2 9 0 2 2 3 3 7 2 7 9 8 8 6 7 2 4 1 2 3 0 4 7\n",
      " 2 1 7 5 4 6 5 6 0 4 6 4 0 6 1 2 1 5 6 4 0 1 0 0 1 5 9 1 4 1 5 4 5 9 9 9 5\n",
      " 2 7 8 3 0 1 1 2 0 2 2 8 7 1 2 9 8 2 0 1 1 9 9 1 0 0 7 0 4 0 2 5 3 4 5 0 7\n",
      " 5 5 6 0 0 5 9 8 2 3 6 5 0 3 8 3 7 4 9 5 3 0 5 8 9 7 6 7 9 2 6 6 6 6 7 2 3\n",
      " 6 8 5 4 9 3 2 0 9 9 4 9 7 1 3 0 2 0 1 0 2 0 2 8 5 1 0 9 2 3 2 2 7 4 6 3 1\n",
      " 5 7 8 9 5 5 9 9 2 1 0 4 5 9 5 3 0 1 0 3 7 7 9 9 2 6 3 6 2 5 4 0 6 1 7 4 6\n",
      " 7 5 6 0 9 2 1 4 1 6 0 1 5 9 5 5 3 3 8 7 3 5 5 0 8 8 7 9 9 2 3 7 8 0 2 0 9\n",
      " 7 1 6 6 4 3 2 4 5 3 9 8 6 5 2 4 6 7 1 9 4 0 1 7 9 8 8 7 4 3 8 7 0 9 1 8 2\n",
      " 3 2 9 7 3 4 6 4 8 8 0 3 4 6 4 8 8 5 0 0 0 3 1 1 8 2 3 6 7 7 2 4 6 9 1 4 7\n",
      " 6 7 1 1 7 2 4 2 0 8 3 1 7 7 9 7 0 5 4 4 0 9 4 7 9 7 1 6 2 4 5 6 9 1 0 6 4\n",
      " 7 1 3 0 5 1 2 8 8 4 4 1 8 2 8 0 9 9 5 1 8 0 9 4 4 3 1 2 8 5 9 9 4 7 0 9 8\n",
      " 8 4 3 8 7 6 9 3 1 3 3 7 9 0 5 1 1 7 7 9 2 3 8 8 3 8 0 3 0 2 1 7 6 0 2 0 6\n",
      " 4 7 1 7 4 4 2 0 7 0 1 5 3 2 8 6 9 5 0 7 8 2 2 4 7 8 1 6 4 5 0 7 3 1 7 6 9\n",
      " 2 8 6 7 1 1 7 8 5 8 5 8 1 1 7 9 0 4 7 3 5 6 5 3 9 0 3 3 3 8 0 1 0 3 8 7 9\n",
      " 5 8 2 4 5 7 4 5 2 3 2 2 2 5 4 6 3 6 1 1 0 2 6 8 8 8 6 1 1 5 3 8 4 9 2 4 4\n",
      " 0 3 7 2 6 3 2 3 5 6 2 5 8 9 4 7 6 7 5 6 2 0 1 4 7 6 6 4 1 0 7 0 9 5 6 7 9\n",
      " 7 5 3 7 7 7 1 2 0 9 2 2 3 1 0 8 5 2 0 3 5 4 7 4 9 5 2 8 8 6 2 2 3 9 8 6 4\n",
      " 4 4 6 2 8 4 0 6 6 2 6 5 8 7 2 9 3 9 3 8 1 9 0 4 0 7 7 7 0 4 9 1 6 9 9 1 7\n",
      " 4 7 6 3 3 2 1 0 7 7 6 6 4 6 0 3 9 0 6 2 1 8 6 1 0 3 7 1 3 4 1 1 3 6 9 5 1\n",
      " 8 0 0 6 3 4 7 7 1 3 0 4 4 9 1 4 3 9 5 5 3 0 3 4 8 8 6 7 0 2 7 9 5 3 5 6 3\n",
      " 7] [5 0 2 4 7 9 4 3 5 3 3 9 6 7 1 7 9 9 4 5 1 3 9 1 3 9 5 8 3 4 9 0 7 4 5 4 0\n",
      " 1 5 0 5 5 7 3 9 4 0 4 9 2 6 4 3 4 9 1 8 1 9 9 5 2 1 1 8 9 7 6 0 6 4 0 8 8\n",
      " 7 5 2 9 4 0 4 4 9 3 5 0 6 6 1 6 0 5 9 7 6 6 0 5 9 1 5 3 3 2 8 7 9 8 6 0 5\n",
      " 7 8 5 0 3 1 9 7 0 9 5 9 7 1 8 9 6 5 9 7 7 0 3 8 5 9 8 8 8 3 8 5 2 9 0 9 6\n",
      " 7 9 1 7 9 0 9 7 8 2 7 5 1 9 9 5 1 9 4 6 4 9 7 4 3 5 0 6 5 3 9 9 6 0 9 3 7\n",
      " 0 9 0 6 5 0 8 3 2 8 6 8 4 4 1 2 4 1 6 6 7 4 6 1 2 7 2 3 6 9 8 4 2 7 7 3 5\n",
      " 0 9 6 4 2 1 1 1 0 1 9 7 4 8 3 8 3 0 5 2 2 8 8 1 1 3 1 2 0 8 6 2 5 4 6 6 3\n",
      " 5 8 3 1 8 1 0 1 3 4 1 3 7 0 5 7 0 2 2 3 3 7 2 7 9 8 8 6 7 2 4 1 2 5 0 4 7\n",
      " 2 1 7 5 4 6 5 6 0 4 6 4 0 5 1 2 2 5 6 9 0 1 5 0 1 5 9 8 4 1 8 5 5 9 9 9 5\n",
      " 2 7 8 3 0 1 1 2 0 4 2 8 7 1 7 9 8 2 0 1 8 7 9 1 3 0 7 0 4 0 2 5 3 4 5 0 9\n",
      " 5 5 8 3 0 5 7 2 3 3 6 5 0 3 8 3 7 4 9 5 3 0 5 8 9 7 6 7 7 2 6 6 6 6 7 0 3\n",
      " 6 8 6 5 9 3 2 0 9 9 4 9 7 1 3 0 6 0 1 0 2 0 0 1 5 1 0 9 2 3 2 2 7 2 6 3 1\n",
      " 5 7 8 9 5 9 9 5 2 1 0 4 5 9 5 2 0 1 0 3 7 9 9 9 9 6 3 6 2 5 5 0 6 1 7 4 6\n",
      " 7 5 2 0 4 2 1 4 1 6 0 1 5 9 5 5 5 3 8 7 3 5 5 0 8 8 3 9 9 0 8 7 8 0 2 0 8\n",
      " 7 1 6 6 4 3 2 4 5 3 4 8 6 5 2 4 6 7 1 9 4 0 1 7 9 8 8 7 4 3 8 7 0 9 1 8 3\n",
      " 3 2 9 7 3 4 6 4 8 8 0 3 4 6 4 8 8 3 0 0 0 3 1 1 8 2 3 6 7 7 2 4 6 9 1 4 7\n",
      " 6 7 1 8 7 2 4 2 5 5 3 1 7 7 5 7 0 8 4 9 0 9 4 7 9 3 1 6 2 4 9 6 7 1 0 6 4\n",
      " 7 1 3 0 5 1 4 8 8 4 4 1 8 2 5 0 9 4 5 1 1 2 9 4 4 3 1 8 8 0 9 9 4 7 0 9 8\n",
      " 8 4 3 3 7 6 9 3 1 3 3 7 9 0 5 1 1 9 7 9 2 8 2 8 3 8 0 3 0 2 1 7 6 0 2 0 4\n",
      " 9 7 1 7 9 4 2 0 7 0 1 5 1 2 8 6 7 0 0 7 8 2 2 4 7 8 1 6 9 5 0 7 3 1 7 6 9\n",
      " 2 1 6 7 1 1 7 8 5 8 8 8 1 1 7 9 0 4 7 3 5 6 8 5 9 0 3 3 3 8 0 1 0 3 8 9 9\n",
      " 5 8 2 4 5 7 4 5 2 3 2 2 2 5 4 6 3 6 1 5 0 2 6 8 8 8 6 1 1 6 2 8 4 9 7 4 4\n",
      " 0 3 7 2 8 3 2 8 5 6 2 5 1 9 4 3 6 7 5 6 2 0 1 5 7 6 6 4 1 0 7 0 9 5 6 7 4\n",
      " 7 5 5 7 7 7 1 2 0 9 3 5 3 1 0 8 5 2 0 3 5 4 7 4 4 5 2 8 8 6 2 2 7 9 8 6 4\n",
      " 4 9 6 2 8 4 0 6 6 2 2 5 8 3 8 9 3 9 3 5 1 9 0 4 0 7 7 7 0 4 9 1 6 9 9 1 7\n",
      " 4 7 6 3 3 2 1 0 7 7 6 6 4 6 0 3 7 0 6 2 4 8 6 1 0 3 7 8 3 4 1 1 3 6 9 5 3\n",
      " 8 0 6 6 3 4 7 7 7 3 0 4 4 9 1 4 2 9 5 6 3 0 3 4 8 3 6 7 0 2 7 9 5 3 5 6 3\n",
      " 7]\n"
     ]
    },
    {
     "data": {
      "text/plain": [
       "0.854"
      ]
     },
     "execution_count": 30,
     "metadata": {},
     "output_type": "execute_result"
    }
   ],
   "source": [
    "dev_predictions = make_predictions(X_dev, W1, b1, W2, b2)\n",
    "get_accuracy(dev_predictions, Y_dev)"
   ]
  },
  {
   "cell_type": "code",
   "execution_count": null,
   "id": "bb756100-ce46-4e88-9d26-c3567df65ea0",
   "metadata": {},
   "outputs": [],
   "source": []
  }
 ],
 "metadata": {
  "kernelspec": {
   "display_name": "Python 3 (ipykernel)",
   "language": "python",
   "name": "python3"
  },
  "language_info": {
   "codemirror_mode": {
    "name": "ipython",
    "version": 3
   },
   "file_extension": ".py",
   "mimetype": "text/x-python",
   "name": "python",
   "nbconvert_exporter": "python",
   "pygments_lexer": "ipython3",
   "version": "3.10.9"
  }
 },
 "nbformat": 4,
 "nbformat_minor": 5
}
